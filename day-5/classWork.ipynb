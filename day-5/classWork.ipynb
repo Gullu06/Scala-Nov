{
 "cells": [
  {
   "cell_type": "markdown",
   "metadata": {},
   "source": [
    "### Anonymous Class"
   ]
  },
  {
   "cell_type": "code",
   "execution_count": 2,
   "metadata": {},
   "outputs": [
    {
     "name": "stdout",
     "output_type": "stream",
     "text": [
      "Hello, World!\n"
     ]
    },
    {
     "data": {
      "text/plain": [
       "defined \u001b[32mtrait\u001b[39m \u001b[36mGreeting\u001b[39m\n",
       "\u001b[36mgreetingInstance\u001b[39m: \u001b[32mAnyRef\u001b[39m with \u001b[32mGreeting\u001b[39m = ammonite.$sess.cmd2$Helper$$anon$1@1e77f158"
      ]
     },
     "execution_count": 2,
     "metadata": {},
     "output_type": "execute_result"
    }
   ],
   "source": [
    "trait Greeting {\n",
    "  def greet(): String\n",
    "}\n",
    "\n",
    "val greetingInstance = new Greeting {\n",
    "  def greet(): String = \"Hello, World!\"\n",
    "}\n",
    "\n",
    "// Using the instance\n",
    "println(greetingInstance.greet())"
   ]
  },
  {
   "cell_type": "markdown",
   "metadata": {},
   "source": [
    "## Implicit conversion"
   ]
  },
  {
   "cell_type": "code",
   "execution_count": 6,
   "metadata": {},
   "outputs": [
    {
     "name": "stdout",
     "output_type": "stream",
     "text": [
      "15\n",
      "Amount class is created!\n"
     ]
    },
    {
     "data": {
      "text/plain": [
       "\u001b[32mimport \u001b[39m\u001b[36mscala.language.implicitConversions\u001b[39m\n",
       "defined \u001b[32mfunction\u001b[39m \u001b[36mintToString\u001b[39m\n",
       "defined \u001b[32mfunction\u001b[39m \u001b[36mtakeAmount\u001b[39m\n",
       "defined \u001b[32mclass\u001b[39m \u001b[36mAmount\u001b[39m\n",
       "\u001b[36mx\u001b[39m: \u001b[32mString\u001b[39m = \u001b[32m\"15\"\u001b[39m\n",
       "\u001b[36my\u001b[39m: \u001b[32mAmount\u001b[39m = ammonite.$sess.cmd6$Helper$Amount@12ad5850"
      ]
     },
     "execution_count": 6,
     "metadata": {},
     "output_type": "execute_result"
    }
   ],
   "source": [
    "import scala.language.implicitConversions\n",
    "\n",
    "implicit def intToString(x: Int): String = x.toString\n",
    "implicit def takeAmount(x:Double): Amount = new Amount()\n",
    "\n",
    "class Amount{\n",
    "    println(\"Amount class is created!\")\n",
    "}\n",
    "val x:String = intToString(15)\n",
    "println(x)\n",
    "val y = takeAmount(5005.00)"
   ]
  }
 ],
 "metadata": {
  "kernelspec": {
   "display_name": "Scala",
   "language": "scala",
   "name": "scala"
  },
  "language_info": {
   "codemirror_mode": "text/x-scala",
   "file_extension": ".sc",
   "mimetype": "text/x-scala",
   "name": "scala",
   "nbconvert_exporter": "script",
   "version": "2.13.14"
  }
 },
 "nbformat": 4,
 "nbformat_minor": 2
}
