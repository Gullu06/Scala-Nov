{
 "cells": [
  {
   "cell_type": "markdown",
   "metadata": {},
   "source": [
    "## Bubble Sort"
   ]
  },
  {
   "cell_type": "code",
   "execution_count": 1,
   "metadata": {},
   "outputs": [
    {
     "data": {
      "text/plain": [
       "defined \u001b[32mfunction\u001b[39m \u001b[36msizeOfArray\u001b[39m"
      ]
     },
     "execution_count": 1,
     "metadata": {},
     "output_type": "execute_result"
    }
   ],
   "source": [
    "//Can be done using arr.length\n",
    "def sizeOfArray(arr: Array[Int]): Int = {\n",
    "    var sz = 0\n",
    "    for(i<-arr){\n",
    "        sz += 1\n",
    "    }\n",
    "    return sz\n",
    "}"
   ]
  },
  {
   "cell_type": "code",
   "execution_count": 16,
   "metadata": {},
   "outputs": [
    {
     "name": "stdout",
     "output_type": "stream",
     "text": [
      "Bubble Sort Output: \n",
      "3 4 9 21 30 38\n"
     ]
    },
    {
     "data": {
      "text/plain": [
       "defined \u001b[32mfunction\u001b[39m \u001b[36mbubbleSort\u001b[39m\n",
       "\u001b[36marr\u001b[39m: \u001b[32mArray\u001b[39m[\u001b[32mInt\u001b[39m] = \u001b[33mArray\u001b[39m(\u001b[32m3\u001b[39m, \u001b[32m4\u001b[39m, \u001b[32m9\u001b[39m, \u001b[32m21\u001b[39m, \u001b[32m30\u001b[39m, \u001b[32m38\u001b[39m)"
      ]
     },
     "execution_count": 16,
     "metadata": {},
     "output_type": "execute_result"
    }
   ],
   "source": [
    "def bubbleSort(arr: Array[Int]): Unit = {\n",
    "    val sz = sizeOfArray(arr)\n",
    "    val j = 0\n",
    "    for(i<-sz-1 to (1, -1)){\n",
    "        for(j<-0 to i-1){\n",
    "            if(arr(j) > arr(j+1)){\n",
    "                var temp = arr(j)\n",
    "                arr(j) = arr(j+1)\n",
    "                arr(j+1) = temp\n",
    "            }\n",
    "        }\n",
    "    }\n",
    "    println(\"Bubble Sort Output: \")\n",
    "    println(arr.mkString(\" \"))\n",
    "}\n",
    "val arr = Array(21, 30, 9, 4, 38, 3)\n",
    "bubbleSort(arr)"
   ]
  },
  {
   "cell_type": "markdown",
   "metadata": {},
   "source": [
    "## Insertion Sort"
   ]
  },
  {
   "cell_type": "code",
   "execution_count": 27,
   "metadata": {},
   "outputs": [
    {
     "name": "stdout",
     "output_type": "stream",
     "text": [
      "Insertion Sort Output: \n",
      "3 4 9 21 30 38\n"
     ]
    },
    {
     "data": {
      "text/plain": [
       "defined \u001b[32mfunction\u001b[39m \u001b[36minsertionSort\u001b[39m\n",
       "\u001b[36marr\u001b[39m: \u001b[32mArray\u001b[39m[\u001b[32mInt\u001b[39m] = \u001b[33mArray\u001b[39m(\u001b[32m3\u001b[39m, \u001b[32m4\u001b[39m, \u001b[32m9\u001b[39m, \u001b[32m21\u001b[39m, \u001b[32m30\u001b[39m, \u001b[32m38\u001b[39m)"
      ]
     },
     "execution_count": 27,
     "metadata": {},
     "output_type": "execute_result"
    }
   ],
   "source": [
    "def insertionSort(arr: Array[Int]): Unit = {\n",
    "    val sz = sizeOfArray(arr)\n",
    "\n",
    "    for(i<-0 until sz){\n",
    "        var j = i\n",
    "        while(j > 0 && arr(j-1) > arr(j)){\n",
    "            var temp = arr(j)\n",
    "            arr(j) = arr(j-1)\n",
    "            arr(j-1) = temp\n",
    "            j -= 1;\n",
    "        }\n",
    "    }\n",
    "    println(\"Insertion Sort Output: \")\n",
    "    println(arr.mkString(\" \"))\n",
    "}\n",
    "val arr = Array(21, 30, 9, 4, 38, 3)\n",
    "insertionSort(arr)"
   ]
  },
  {
   "cell_type": "markdown",
   "metadata": {},
   "source": [
    "### Quick Sort"
   ]
  },
  {
   "cell_type": "code",
   "execution_count": 4,
   "metadata": {},
   "outputs": [
    {
     "name": "stdout",
     "output_type": "stream",
     "text": [
      "Quick Sort Output: \n",
      "3 4 9 21 30 38\n"
     ]
    },
    {
     "data": {
      "text/plain": [
       "defined \u001b[32mfunction\u001b[39m \u001b[36mpartition\u001b[39m\n",
       "defined \u001b[32mfunction\u001b[39m \u001b[36mquickSort\u001b[39m\n",
       "\u001b[36marr\u001b[39m: \u001b[32mArray\u001b[39m[\u001b[32mInt\u001b[39m] = \u001b[33mArray\u001b[39m(\u001b[32m3\u001b[39m, \u001b[32m4\u001b[39m, \u001b[32m9\u001b[39m, \u001b[32m21\u001b[39m, \u001b[32m30\u001b[39m, \u001b[32m38\u001b[39m)\n",
       "\u001b[36msz\u001b[39m: \u001b[32mInt\u001b[39m = \u001b[32m6\u001b[39m"
      ]
     },
     "execution_count": 4,
     "metadata": {},
     "output_type": "execute_result"
    }
   ],
   "source": [
    "def partition(left: Int, right: Int, arr: Array[Int]): Int = {\n",
    "    var pivot = arr(left)\n",
    "    var i = left\n",
    "    var j = right\n",
    "    while(i < j){\n",
    "        if(arr(i) <= pivot && i <= right -1){\n",
    "            i += 1\n",
    "        }\n",
    "        if(arr(j) >= pivot && j >= left+1){\n",
    "            j -= 1\n",
    "        }\n",
    "        if(i < j){\n",
    "            var temp = arr(j)\n",
    "            arr(j) = arr(i)\n",
    "            arr(i) = temp\n",
    "        }\n",
    "    }\n",
    "    var temp = arr(left)\n",
    "    arr(left) = arr(j)\n",
    "    arr(j) = temp\n",
    "    return j\n",
    "}\n",
    "def quickSort(arr: Array[Int], left: Int, right: Int): Unit = {\n",
    "    if(left < right){\n",
    "        var pIdx = partition(left, right, arr)\n",
    "        quickSort(arr, left, pIdx-1)\n",
    "        quickSort(arr, pIdx+1, right)\n",
    "    }\n",
    "}\n",
    "\n",
    "val arr = Array(21, 30, 9, 4, 38, 3)\n",
    "val sz = sizeOfArray(arr)\n",
    "quickSort(arr, 0, sz-1)\n",
    "println(\"Quick Sort Output: \")\n",
    "println(arr.mkString(\" \"))"
   ]
  },
  {
   "cell_type": "markdown",
   "metadata": {},
   "source": [
    "### Heap Sort"
   ]
  },
  {
   "cell_type": "code",
   "execution_count": 13,
   "metadata": {},
   "outputs": [
    {
     "name": "stdout",
     "output_type": "stream",
     "text": [
      "Heap Sort Output: \n",
      "3 4 9 21 30 38\n"
     ]
    },
    {
     "data": {
      "text/plain": [
       "defined \u001b[32mfunction\u001b[39m \u001b[36mHeapify\u001b[39m\n",
       "defined \u001b[32mfunction\u001b[39m \u001b[36mheapSort\u001b[39m\n",
       "\u001b[36marr\u001b[39m: \u001b[32mArray\u001b[39m[\u001b[32mInt\u001b[39m] = \u001b[33mArray\u001b[39m(\u001b[32m3\u001b[39m, \u001b[32m4\u001b[39m, \u001b[32m9\u001b[39m, \u001b[32m21\u001b[39m, \u001b[32m30\u001b[39m, \u001b[32m38\u001b[39m)"
      ]
     },
     "execution_count": 13,
     "metadata": {},
     "output_type": "execute_result"
    }
   ],
   "source": [
    "def Heapify(arr: Array[Int], n: Int, idx: Int): Unit = {\n",
    "    val right = 2 * idx + 2\n",
    "    val left = 2 * idx + 1\n",
    "    var largestNode = idx\n",
    "\n",
    "    if (left < n && arr(left) > arr(largestNode)) {\n",
    "        largestNode = left\n",
    "    }\n",
    "\n",
    "    if (right < n && arr(right) > arr(largestNode)) {\n",
    "        largestNode = right\n",
    "    }\n",
    "\n",
    "    if (largestNode != idx) {\n",
    "        val tmp = arr(idx)\n",
    "        arr(idx) = arr(largestNode)\n",
    "        arr(largestNode) = tmp\n",
    "        Heapify(arr, n, largestNode)\n",
    "    }\n",
    "}\n",
    "\n",
    "def heapSort(arr: Array[Int]): Unit = {\n",
    "    val n = arr.length\n",
    "\n",
    "    val start = (n / 2) - 1\n",
    "    for (idx <- start to 0 by -1) {\n",
    "        Heapify(arr, n, idx)\n",
    "    }\n",
    "\n",
    "    for (i <- n - 1 to 1 by -1) {\n",
    "        val tmp = arr(0)\n",
    "        arr(0) = arr(i)\n",
    "        arr(i) = tmp\n",
    "        Heapify(arr, i, 0)\n",
    "    }\n",
    "}\n",
    "\n",
    "val arr = Array(21, 30, 9, 4, 38, 3)\n",
    "heapSort(arr)\n",
    "println(\"Heap Sort Output: \")\n",
    "println(arr.mkString(\" \"))"
   ]
  },
  {
   "cell_type": "markdown",
   "metadata": {},
   "source": [
    "### Selection sort"
   ]
  },
  {
   "cell_type": "code",
   "execution_count": 19,
   "metadata": {},
   "outputs": [
    {
     "name": "stdout",
     "output_type": "stream",
     "text": [
      "Selection Sort Output: \n",
      "3 4 9 21 30 38\n"
     ]
    },
    {
     "data": {
      "text/plain": [
       "defined \u001b[32mfunction\u001b[39m \u001b[36mselectionSort\u001b[39m\n",
       "\u001b[36marr\u001b[39m: \u001b[32mArray\u001b[39m[\u001b[32mInt\u001b[39m] = \u001b[33mArray\u001b[39m(\u001b[32m3\u001b[39m, \u001b[32m4\u001b[39m, \u001b[32m9\u001b[39m, \u001b[32m21\u001b[39m, \u001b[32m30\u001b[39m, \u001b[32m38\u001b[39m)"
      ]
     },
     "execution_count": 19,
     "metadata": {},
     "output_type": "execute_result"
    }
   ],
   "source": [
    "def selectionSort(arr: Array[Int]): Unit = {\n",
    "    val sz = arr.length\n",
    "    val j = 0\n",
    "    for(i<-0 to sz-1){\n",
    "        var mnIdx = 1000000\n",
    "        var mn = 1000000\n",
    "        for(j<-i to sz-1){\n",
    "            if(arr(j) < mn){\n",
    "                // println(mn)\n",
    "                mnIdx = j\n",
    "                mn = arr(j)\n",
    "            }\n",
    "        }\n",
    "        var tmp = arr(i)\n",
    "        arr(i) = arr(mnIdx)\n",
    "        arr(mnIdx) = tmp\n",
    "    }\n",
    "    println(\"Selection Sort Output: \")\n",
    "    println(arr.mkString(\" \"))\n",
    "}\n",
    "val arr = Array(21, 30, 9, 4, 38, 3)\n",
    "selectionSort(arr)"
   ]
  }
 ],
 "metadata": {
  "kernelspec": {
   "display_name": "Scala",
   "language": "scala",
   "name": "scala"
  },
  "language_info": {
   "codemirror_mode": "text/x-scala",
   "file_extension": ".sc",
   "mimetype": "text/x-scala",
   "name": "scala",
   "nbconvert_exporter": "script",
   "version": "2.13.14"
  }
 },
 "nbformat": 4,
 "nbformat_minor": 2
}
