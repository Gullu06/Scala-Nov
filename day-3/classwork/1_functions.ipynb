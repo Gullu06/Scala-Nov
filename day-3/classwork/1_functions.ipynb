{
 "cells": [
  {
   "cell_type": "code",
   "execution_count": 2,
   "metadata": {},
   "outputs": [
    {
     "name": "stdout",
     "output_type": "stream",
     "text": [
      "Return value of function is: Hi Prynshi.\n"
     ]
    },
    {
     "data": {
      "text/plain": [
       "defined \u001b[32mfunction\u001b[39m \u001b[36mprocess\u001b[39m\n",
       "\u001b[36mres\u001b[39m: \u001b[32mString\u001b[39m = \u001b[32m\"Hi Prynshi\"\u001b[39m"
      ]
     },
     "execution_count": 2,
     "metadata": {},
     "output_type": "execute_result"
    }
   ],
   "source": [
    "def process(name: String): String = {\n",
    "    return \"Hi \"+name\n",
    "}\n",
    "\n",
    "val res = process(\"Prynshi\")\n",
    "println(s\"Return value of function is: $res.\")"
   ]
  },
  {
   "cell_type": "code",
   "execution_count": 7,
   "metadata": {},
   "outputs": [
    {
     "name": "stdout",
     "output_type": "stream",
     "text": [
      "Hi Prynshi\n"
     ]
    },
    {
     "data": {
      "text/plain": [
       "defined \u001b[32mfunction\u001b[39m \u001b[36mgreet\u001b[39m"
      ]
     },
     "execution_count": 7,
     "metadata": {},
     "output_type": "execute_result"
    }
   ],
   "source": [
    "def greet(name: String): String = {\n",
    "    \"Hi \" + name\n",
    "}\n",
    "println(greet(\"Prynshi\"))"
   ]
  },
  {
   "cell_type": "code",
   "execution_count": 10,
   "metadata": {},
   "outputs": [
    {
     "name": "stdout",
     "output_type": "stream",
     "text": [
      "This Scala function don't have block!\n"
     ]
    },
    {
     "data": {
      "text/plain": [
       "defined \u001b[32mfunction\u001b[39m \u001b[36mgreet\u001b[39m"
      ]
     },
     "execution_count": 10,
     "metadata": {},
     "output_type": "execute_result"
    }
   ],
   "source": [
    "def greet(name: String): String = s\"This $name function don't have block!\"\n",
    "println(greet(\"Scala\"))"
   ]
  },
  {
   "cell_type": "code",
   "execution_count": 11,
   "metadata": {},
   "outputs": [
    {
     "name": "stdout",
     "output_type": "stream",
     "text": [
      "7\n"
     ]
    },
    {
     "data": {
      "text/plain": [
       "defined \u001b[32mfunction\u001b[39m \u001b[36msum\u001b[39m"
      ]
     },
     "execution_count": 11,
     "metadata": {},
     "output_type": "execute_result"
    }
   ],
   "source": [
    "def sum(a: Int, b: Int): Int = {\n",
    "    return a+b\n",
    "}\n",
    "println(sum(5, 2))"
   ]
  },
  {
   "cell_type": "markdown",
   "metadata": {},
   "source": [
    "Arrow or lambda(=>) representation"
   ]
  },
  {
   "cell_type": "code",
   "execution_count": 14,
   "metadata": {},
   "outputs": [
    {
     "name": "stdout",
     "output_type": "stream",
     "text": [
      "100\n"
     ]
    },
    {
     "data": {
      "text/plain": [
       "\u001b[36msum\u001b[39m: (\u001b[32mInt\u001b[39m, \u001b[32mInt\u001b[39m) => \u001b[32mInt\u001b[39m = ammonite.$sess.cmd14$Helper$$Lambda/0x0000007001a35f90@2eb7224a"
      ]
     },
     "execution_count": 14,
     "metadata": {},
     "output_type": "execute_result"
    }
   ],
   "source": [
    "val sum = (a: Int, b: Int) => a+b\n",
    "println(sum(89, 11))"
   ]
  },
  {
   "cell_type": "code",
   "execution_count": 2,
   "metadata": {},
   "outputs": [
    {
     "name": "stdout",
     "output_type": "stream",
     "text": [
      "1331\n"
     ]
    },
    {
     "data": {
      "text/plain": [
       "\u001b[36mcube\u001b[39m: \u001b[32mInt\u001b[39m => \u001b[32mInt\u001b[39m = ammonite.$sess.cmd2$Helper$$Lambda/0x00000006018ec1f8@13e435ad"
      ]
     },
     "execution_count": 2,
     "metadata": {},
     "output_type": "execute_result"
    }
   ],
   "source": [
    "val cube: Int => Int = (a) => a*a*a\n",
    "println(cube(11))"
   ]
  },
  {
   "cell_type": "code",
   "execution_count": 3,
   "metadata": {},
   "outputs": [
    {
     "name": "stdout",
     "output_type": "stream",
     "text": [
      "100\n"
     ]
    },
    {
     "data": {
      "text/plain": [
       "\u001b[36msum\u001b[39m: (\u001b[32mInt\u001b[39m, \u001b[32mInt\u001b[39m) => \u001b[32mInt\u001b[39m = ammonite.$sess.cmd3$Helper$$Lambda/0x00000006018ed148@217f6ec2"
      ]
     },
     "execution_count": 3,
     "metadata": {},
     "output_type": "execute_result"
    }
   ],
   "source": [
    "val sum: (Int, Int) => Int = (a, b) => a+b\n",
    "println(sum(89, 11))"
   ]
  },
  {
   "cell_type": "markdown",
   "metadata": {},
   "source": [
    "Variable can hold function. E.g. below"
   ]
  },
  {
   "cell_type": "markdown",
   "metadata": {},
   "source": [
    "1. Implicite type inferred"
   ]
  },
  {
   "cell_type": "markdown",
   "metadata": {},
   "source": [
    "2. Explicite type inferred"
   ]
  },
  {
   "cell_type": "code",
   "execution_count": 4,
   "metadata": {},
   "outputs": [
    {
     "name": "stdout",
     "output_type": "stream",
     "text": [
      "Process Desktop application has started\n",
      "Process DBService has started\n"
     ]
    },
    {
     "data": {
      "text/plain": [
       "defined \u001b[32mfunction\u001b[39m \u001b[36mprocess\u001b[39m\n",
       "\u001b[36mtarget\u001b[39m: \u001b[32mString\u001b[39m => \u001b[32mString\u001b[39m = ammonite.$sess.cmd4$Helper$$Lambda/0x00000006018ee278@76f6ae68\n",
       "\u001b[36mcopied\u001b[39m: \u001b[32mString\u001b[39m => \u001b[32mString\u001b[39m = ammonite.$sess.cmd4$Helper$$Lambda/0x00000006018ee638@1ec03e7"
      ]
     },
     "execution_count": 4,
     "metadata": {},
     "output_type": "execute_result"
    }
   ],
   "source": [
    "def process(x: String):String = s\"Process $x has started\"\n",
    "\n",
    "val target = process _ //type is inferred\n",
    "val copied: String => String = process //copied type is specified\n",
    "\n",
    "println(target(\"Desktop application\"))\n",
    "println(copied(\"DBService\"))"
   ]
  },
  {
   "cell_type": "markdown",
   "metadata": {},
   "source": [
    "Functions can be passed as parameters"
   ]
  },
  {
   "cell_type": "markdown",
   "metadata": {},
   "source": [
    "1. Callback Function(Higher order function)"
   ]
  },
  {
   "cell_type": "code",
   "execution_count": 28,
   "metadata": {},
   "outputs": [
    {
     "data": {
      "text/plain": [
       "defined \u001b[32mfunction\u001b[39m \u001b[36mcallMeIWillSendYouAsManyTimes\u001b[39m"
      ]
     },
     "execution_count": 28,
     "metadata": {},
     "output_type": "execute_result"
    }
   ],
   "source": [
    "def callMeIWillSendYouAsManyTimes(times: Int, method: String => Unit) = {\n",
    "    for(i<-0 to times){\n",
    "        println(\"Inside the original program.\")\n",
    "        method(\"India\")\n",
    "        println(\"Back to original call\")\n",
    "    }\n",
    "}"
   ]
  },
  {
   "cell_type": "code",
   "execution_count": 27,
   "metadata": {},
   "outputs": [
    {
     "name": "stdout",
     "output_type": "stream",
     "text": [
      "Inside the original program.\n",
      "User is processing India\n",
      "Back to original call\n",
      "Inside the original program.\n",
      "User is processing India\n",
      "Back to original call\n",
      "Inside the original program.\n",
      "User is processing India\n",
      "Back to original call\n"
     ]
    },
    {
     "data": {
      "text/plain": [
       "defined \u001b[32mfunction\u001b[39m \u001b[36mgetTheData\u001b[39m"
      ]
     },
     "execution_count": 27,
     "metadata": {},
     "output_type": "execute_result"
    }
   ],
   "source": [
    "def getTheData(data: String): Unit = {\n",
    "    println(s\"User is processing $data\")\n",
    "}\n",
    "callMeIWillSendYouAsManyTimes(2, getTheData)"
   ]
  },
  {
   "cell_type": "markdown",
   "metadata": {},
   "source": [
    "Immutable: Object cannot be replaced"
   ]
  },
  {
   "cell_type": "markdown",
   "metadata": {},
   "source": [
    "val x:Array[Int] = Array()"
   ]
  },
  {
   "cell_type": "markdown",
   "metadata": {},
   "source": [
    "x(2) = 3"
   ]
  },
  {
   "cell_type": "markdown",
   "metadata": {},
   "source": [
    "In above scenerio, updating the value inside the object. Object is still Immutable. "
   ]
  },
  {
   "cell_type": "code",
   "execution_count": 1,
   "metadata": {},
   "outputs": [
    {
     "data": {
      "text/plain": [
       "defined \u001b[32mfunction\u001b[39m \u001b[36mfilterIt\u001b[39m"
      ]
     },
     "execution_count": 1,
     "metadata": {},
     "output_type": "execute_result"
    }
   ],
   "source": [
    "def filterIt(elements: Array[Int], logic: Int => Boolean): Array[Int] = {\n",
    "    var idx: Int = 0\n",
    "    var cnt: Int = 0\n",
    "    for(i <- elements){\n",
    "        if(logic(i)){\n",
    "            cnt += 1\n",
    "        }\n",
    "    }\n",
    "    val arr = Array.fill(cnt)(0)\n",
    "    for(i <- elements){\n",
    "        if(logic(i)){\n",
    "            arr(idx) = i\n",
    "            idx += 1\n",
    "        }\n",
    "    }\n",
    "    return arr\n",
    "}"
   ]
  },
  {
   "cell_type": "code",
   "execution_count": 4,
   "metadata": {},
   "outputs": [
    {
     "name": "stdout",
     "output_type": "stream",
     "text": [
      "Res1: \n",
      "100-> 36-> 388-> Res2: \n",
      "89-> 47-> "
     ]
    },
    {
     "data": {
      "text/plain": [
       "\u001b[36mnumArray\u001b[39m: \u001b[32mArray\u001b[39m[\u001b[32mInt\u001b[39m] = \u001b[33mArray\u001b[39m(\u001b[32m100\u001b[39m, \u001b[32m36\u001b[39m, \u001b[32m89\u001b[39m, \u001b[32m47\u001b[39m, \u001b[32m388\u001b[39m)\n",
       "\u001b[36mres1\u001b[39m: \u001b[32mArray\u001b[39m[\u001b[32mInt\u001b[39m] = \u001b[33mArray\u001b[39m(\u001b[32m100\u001b[39m, \u001b[32m36\u001b[39m, \u001b[32m388\u001b[39m)\n",
       "\u001b[36mres2\u001b[39m: \u001b[32mArray\u001b[39m[\u001b[32mInt\u001b[39m] = \u001b[33mArray\u001b[39m(\u001b[32m89\u001b[39m, \u001b[32m47\u001b[39m)"
      ]
     },
     "execution_count": 4,
     "metadata": {},
     "output_type": "execute_result"
    }
   ],
   "source": [
    "val numArray = Array(100, 36, 89, 47, 388)\n",
    "\n",
    "val res1 = filterIt(numArray, (num) => num%2==0)\n",
    "println(\"Res1: \")\n",
    "\n",
    "for(i<-res1){\n",
    "    print(s\"$i-> \")\n",
    "}\n",
    "\n",
    "println(\"Res2: \")\n",
    "val res2 = filterIt(numArray, (num) => num<100 && num > 38)\n",
    "for(i<-res2){\n",
    "    print(s\"$i-> \")\n",
    "}"
   ]
  }
 ],
 "metadata": {
  "kernelspec": {
   "display_name": "Scala",
   "language": "scala",
   "name": "scala"
  },
  "language_info": {
   "codemirror_mode": "text/x-scala",
   "file_extension": ".sc",
   "mimetype": "text/x-scala",
   "name": "scala",
   "nbconvert_exporter": "script",
   "version": "2.13.14"
  }
 },
 "nbformat": 4,
 "nbformat_minor": 2
}
