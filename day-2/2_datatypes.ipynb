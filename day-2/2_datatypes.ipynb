{
 "cells": [
  {
   "cell_type": "markdown",
   "metadata": {},
   "source": [
    "<!-- // ### Formate method\n",
    "\n",
    "// #### Scala uses: \n",
    "// ##### %d -> integer\n",
    "// ##### %f -> float\n",
    "// ##### %s -> string\n",
    "// ##### %c -> character\n",
    "\n",
    "// val str = \"Apple Bootcamp - 2\" -->"
   ]
  },
  {
   "cell_type": "markdown",
   "metadata": {},
   "source": [
    "### Datatypes in Scala\n",
    "\n",
    "#### There are different types of datatypes in Scala, e.g.: Int, Float, Double, bool, long, short, string, character, and so on.\n",
    "#### Below are the different ways to initilize the different datatypes"
   ]
  },
  {
   "cell_type": "code",
   "execution_count": 9,
   "metadata": {},
   "outputs": [
    {
     "name": "stdout",
     "output_type": "stream",
     "text": [
      "42\n",
      "Byte : 1\n",
      "Integer : 1\n",
      "Long : 192739927662\n",
      "Short : 1\n",
      "Double : 2.0\n",
      "Char : c\n",
      "String : Scala\n",
      "Unit : ()\n",
      "Null : null\n",
      "Any : Random Value\n",
      "AnyValue : 58\n",
      "AnyRef : Random Reference\n",
      "Option : Some(3)\n",
      "Either :Right(5.1)\n"
     ]
    },
    {
     "data": {
      "text/plain": [
       "\u001b[36mb\u001b[39m: \u001b[32mByte\u001b[39m = \u001b[32m1\u001b[39m\n",
       "\u001b[36mi\u001b[39m: \u001b[32mInt\u001b[39m = \u001b[32m1\u001b[39m\n",
       "\u001b[36ml\u001b[39m: \u001b[32mLong\u001b[39m = \u001b[32m192739927662L\u001b[39m\n",
       "\u001b[36ms\u001b[39m: \u001b[32mShort\u001b[39m = \u001b[32m1\u001b[39m\n",
       "\u001b[36md\u001b[39m: \u001b[32mDouble\u001b[39m = \u001b[32m2.0\u001b[39m\n",
       "\u001b[36mf\u001b[39m: \u001b[32mFloat\u001b[39m = \u001b[32m3.0F\u001b[39m\n",
       "\u001b[36mc\u001b[39m: \u001b[32mChar\u001b[39m = \u001b[32m'c'\u001b[39m\n",
       "\u001b[36mstr\u001b[39m: \u001b[32mString\u001b[39m = \u001b[32m\"Scala\"\u001b[39m\n",
       "\u001b[36mn\u001b[39m: \u001b[32mNull\u001b[39m = \u001b[32mnull\u001b[39m\n",
       "defined \u001b[32mfunction\u001b[39m \u001b[36mfail\u001b[39m\n",
       "\u001b[36mresult\u001b[39m: \u001b[32mInt\u001b[39m = \u001b[32m42\u001b[39m\n",
       "\u001b[36ma\u001b[39m: \u001b[32mAny\u001b[39m = \u001b[32m\"Random Value\"\u001b[39m\n",
       "\u001b[36mav\u001b[39m: \u001b[32mAnyVal\u001b[39m = \u001b[32m58\u001b[39m\n",
       "\u001b[36mar\u001b[39m: \u001b[32mAnyRef\u001b[39m = \u001b[32m\"Random Reference\"\u001b[39m\n",
       "\u001b[36mo\u001b[39m: \u001b[32mOption\u001b[39m[\u001b[32mInt\u001b[39m] = \u001b[33mSome\u001b[39m(value = \u001b[32m3\u001b[39m)\n",
       "\u001b[36me\u001b[39m: \u001b[32mEither\u001b[39m[\u001b[32mInt\u001b[39m, \u001b[32mDouble\u001b[39m] = \u001b[33mRight\u001b[39m(value = \u001b[32m5.1\u001b[39m)"
      ]
     },
     "execution_count": 9,
     "metadata": {},
     "output_type": "execute_result"
    }
   ],
   "source": [
    "val b: Byte = 1\n",
    "val i: Int = 1\n",
    "val l: Long = 192739927662L\n",
    "val s: Short = 1\n",
    "val d: Double = 2.0\n",
    "val f: Float = 3.0f\n",
    "val c: Char = 'c'\n",
    "val str: String = \"Scala\"\n",
    "val u: Unit = ()\n",
    "val n: Null = null\n",
    "def fail(message: String): Nothing = {\n",
    "  throw new RuntimeException(message)\n",
    "}\n",
    "val result = if (true) 42 else fail(\"Failed!\")\n",
    "val a: Any = \"Random Value\"\n",
    "val av: AnyVal = 58\n",
    "val ar: AnyRef = \"Random Reference\"\n",
    "val o: Option[Int] = Some(3)\n",
    "val e: Either[Int, Double] = Right(5.1)\n",
    "\n",
    "println(result)\n",
    "println(\"Byte : \" + b)\n",
    "println(\"Integer : \" + i)\n",
    "println(\"Long : \" + l)\n",
    "println(\"Short : \" + s)\n",
    "println(\"Double : \" + d)\n",
    "println(\"Char : \" + c)\n",
    "println(\"String : \" + str)\n",
    "println(\"Unit : \" + u)\n",
    "println(\"Null : \" + n)\n",
    "println(\"Any : \" + a)\n",
    "println(\"AnyValue : \" + av)\n",
    "println(\"AnyRef : \" + ar)\n",
    "println(\"Option : \" + o)\n",
    "println(\"Either :\" + e)"
   ]
  },
  {
   "cell_type": "markdown",
   "metadata": {},
   "source": [
    "#### For large numbers Scala also includes the types BigInt and BigDecimal"
   ]
  },
  {
   "cell_type": "code",
   "execution_count": 4,
   "metadata": {},
   "outputs": [
    {
     "name": "stdout",
     "output_type": "stream",
     "text": [
      "1234567890\n"
     ]
    },
    {
     "data": {
      "text/plain": [
       "\u001b[36mbi\u001b[39m: \u001b[32mBigInt\u001b[39m = 1234567890"
      ]
     },
     "execution_count": 4,
     "metadata": {},
     "output_type": "execute_result"
    }
   ],
   "source": [
    "val bi = BigInt(1234567890)\n",
    "println(\"BigInteger :\" + bi)"
   ]
  },
  {
   "cell_type": "code",
   "execution_count": 6,
   "metadata": {},
   "outputs": [
    {
     "name": "stdout",
     "output_type": "stream",
     "text": [
      "BigDecimal : 12345.6789\n"
     ]
    },
    {
     "data": {
      "text/plain": [
       "\u001b[36mbd\u001b[39m: \u001b[32mBigDecimal\u001b[39m = 12345.6789"
      ]
     },
     "execution_count": 6,
     "metadata": {},
     "output_type": "execute_result"
    }
   ],
   "source": [
    "val bd = BigDecimal(12345.67890)\n",
    "println(\"BigDecimal : \" + bd)"
   ]
  }
 ],
 "metadata": {
  "kernelspec": {
   "display_name": "Scala",
   "language": "scala",
   "name": "scala"
  },
  "language_info": {
   "codemirror_mode": "text/x-scala",
   "file_extension": ".sc",
   "mimetype": "text/x-scala",
   "name": "scala",
   "nbconvert_exporter": "script",
   "version": "2.13.14"
  }
 },
 "nbformat": 4,
 "nbformat_minor": 2
}
