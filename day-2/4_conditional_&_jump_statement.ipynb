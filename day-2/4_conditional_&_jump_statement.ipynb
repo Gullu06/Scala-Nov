{
 "cells": [
  {
   "cell_type": "markdown",
   "metadata": {},
   "source": [
    "### Conditional & Jump statement\n",
    "#### Below are different conditional statements"
   ]
  },
  {
   "cell_type": "markdown",
   "metadata": {},
   "source": [
    "#### If else condition"
   ]
  },
  {
   "cell_type": "code",
   "execution_count": 1,
   "metadata": {},
   "outputs": [
    {
     "name": "stdout",
     "output_type": "stream",
     "text": [
      "Yes, the version is greater than 2.0 :2.5\n"
     ]
    },
    {
     "data": {
      "text/plain": [
       "\u001b[36mversion\u001b[39m: \u001b[32mDouble\u001b[39m = \u001b[32m2.5\u001b[39m"
      ]
     },
     "execution_count": 1,
     "metadata": {},
     "output_type": "execute_result"
    }
   ],
   "source": [
    "val version: Double = 2.5\n",
    "\n",
    "if(version > 2.0){\n",
    "    println(\"Yes, the version is greater than 2.0 :\" + version)\n",
    "}\n",
    "else{\n",
    "    println(\"No, the version is smaller than 2.0 :\" + version)\n",
    "}"
   ]
  },
  {
   "cell_type": "markdown",
   "metadata": {},
   "source": [
    "#### Ternary-like Conditional (if-else Expression)"
   ]
  },
  {
   "cell_type": "code",
   "execution_count": 4,
   "metadata": {},
   "outputs": [
    {
     "name": "stdout",
     "output_type": "stream",
     "text": [
      "5"
     ]
    },
    {
     "data": {
      "text/plain": [
       "\u001b[36mconditionalStats\u001b[39m: \u001b[32mBoolean\u001b[39m = \u001b[32mtrue\u001b[39m\n",
       "\u001b[36mconditionalStatsVal\u001b[39m: \u001b[32mInt\u001b[39m = \u001b[32m5\u001b[39m"
      ]
     },
     "execution_count": 4,
     "metadata": {},
     "output_type": "execute_result"
    }
   ],
   "source": [
    "val conditionalStats = true\n",
    "val conditionalStatsVal = if(conditionalStats) 5 else 2\n",
    "print(conditionalStatsVal)"
   ]
  },
  {
   "cell_type": "markdown",
   "metadata": {},
   "source": [
    "#### Else if condition"
   ]
  },
  {
   "cell_type": "code",
   "execution_count": 2,
   "metadata": {},
   "outputs": [
    {
     "name": "stdout",
     "output_type": "stream",
     "text": [
      "Excellent!\n"
     ]
    },
    {
     "data": {
      "text/plain": [
       "\u001b[36mscore\u001b[39m: \u001b[32mInt\u001b[39m = \u001b[32m90\u001b[39m"
      ]
     },
     "execution_count": 2,
     "metadata": {},
     "output_type": "execute_result"
    }
   ],
   "source": [
    "val score: Int = 90\n",
    "\n",
    "if(score >= 90){\n",
    "    println(\"Excellent!\")\n",
    "}\n",
    "else if(score >= 80) {\n",
    "  println(\"Very Good\")\n",
    "} \n",
    "else if (score >= 70) {\n",
    "  println(\"Good\")\n",
    "} \n",
    "else {\n",
    "  println(\"Needs Improvement\")\n",
    "}"
   ]
  },
  {
   "cell_type": "markdown",
   "metadata": {},
   "source": [
    "#### Match Expression and gaurd condition in Match"
   ]
  },
  {
   "cell_type": "code",
   "execution_count": 5,
   "metadata": {},
   "outputs": [
    {
     "name": "stdout",
     "output_type": "stream",
     "text": [
      "Positive number\n"
     ]
    },
    {
     "data": {
      "text/plain": [
       "\u001b[36mnumber\u001b[39m: \u001b[32mInt\u001b[39m = \u001b[32m15\u001b[39m"
      ]
     },
     "execution_count": 5,
     "metadata": {},
     "output_type": "execute_result"
    }
   ],
   "source": [
    "val number = 15\n",
    "\n",
    "number match {\n",
    "  case x if x < 0 => println(\"Negative number\")\n",
    "  case x if x > 0 => println(\"Positive number\")\n",
    "  case _ => println(\"Zero\")\n",
    "}\n"
   ]
  },
  {
   "cell_type": "markdown",
   "metadata": {},
   "source": [
    "#### Jump Statements: break, continue, and return"
   ]
  },
  {
   "cell_type": "markdown",
   "metadata": {},
   "source": [
    "#### Break Statement"
   ]
  },
  {
   "cell_type": "code",
   "execution_count": 10,
   "metadata": {},
   "outputs": [
    {
     "data": {
      "text/plain": [
       "\u001b[32mimport \u001b[39m\u001b[36mscala.util.control.Breaks._\u001b[39m"
      ]
     },
     "execution_count": 10,
     "metadata": {},
     "output_type": "execute_result"
    }
   ],
   "source": [
    "import scala.util.control.Breaks._"
   ]
  },
  {
   "cell_type": "code",
   "execution_count": 11,
   "metadata": {},
   "outputs": [
    {
     "name": "stdout",
     "output_type": "stream",
     "text": [
      "i: 1\n",
      "On condition breaking the loop!\n"
     ]
    },
    {
     "ename": "scala.util.control.BreakControl",
     "evalue": "null",
     "output_type": "error",
     "traceback": [
      "\u001b[31mscala.util.control.BreakControl\u001b[39m"
     ]
    }
   ],
   "source": [
    "for(i <- 1 to 10){\n",
    "    if(i == 2){\n",
    "        println(\"On condition breaking the loop!\")\n",
    "        break()\n",
    "    }\n",
    "    println(\"i: \" + i)\n",
    "}"
   ]
  },
  {
   "cell_type": "markdown",
   "metadata": {},
   "source": [
    "### Continue Statement "
   ]
  },
  {
   "cell_type": "code",
   "execution_count": 4,
   "metadata": {},
   "outputs": [
    {
     "name": "stdout",
     "output_type": "stream",
     "text": [
      "2\n",
      "4\n",
      "6\n",
      "8\n",
      "10\n"
     ]
    }
   ],
   "source": [
    "for (i <- 1 to 10) {\n",
    "  if (i % 2 == 0) {\n",
    "    // Skip odd numbers\n",
    "    println(i) \n",
    "    }\n",
    "}"
   ]
  },
  {
   "cell_type": "markdown",
   "metadata": {},
   "source": [
    "#### Return Statement"
   ]
  },
  {
   "cell_type": "code",
   "execution_count": 8,
   "metadata": {},
   "outputs": [
    {
     "data": {
      "text/plain": [
       "defined \u001b[32mfunction\u001b[39m \u001b[36mreturnAtNum\u001b[39m\n",
       "\u001b[36mreturnedVal\u001b[39m: \u001b[32mInt\u001b[39m = \u001b[32m4\u001b[39m"
      ]
     },
     "execution_count": 8,
     "metadata": {},
     "output_type": "execute_result"
    }
   ],
   "source": [
    "def returnAtNum(num: Int): Int = {\n",
    "  for (i <- 0 to 10) {\n",
    "    if (i == num) return num\n",
    "  }\n",
    "  -1\n",
    "}\n",
    "\n",
    "val returnedVal = returnAtNum(4)"
   ]
  }
 ],
 "metadata": {
  "kernelspec": {
   "display_name": "Scala",
   "language": "scala",
   "name": "scala"
  },
  "language_info": {
   "codemirror_mode": "text/x-scala",
   "file_extension": ".sc",
   "mimetype": "text/x-scala",
   "name": "scala",
   "nbconvert_exporter": "script",
   "version": "2.13.14"
  }
 },
 "nbformat": 4,
 "nbformat_minor": 2
}
