{
 "cells": [
  {
   "cell_type": "markdown",
   "metadata": {},
   "source": [
    "#### Arrays"
   ]
  },
  {
   "cell_type": "markdown",
   "metadata": {},
   "source": [
    "#### 1. Arrays are data structure that contains elements of same data types.\n",
    "#### 2. Arrays are Mutable"
   ]
  },
  {
   "cell_type": "markdown",
   "metadata": {},
   "source": [
    "#### Creating Arrays"
   ]
  },
  {
   "cell_type": "markdown",
   "metadata": {},
   "source": [
    "#### 1. Declaring empty array:"
   ]
  },
  {
   "cell_type": "markdown",
   "metadata": {},
   "source": [
    "1.1 Using the Array() Constructor"
   ]
  },
  {
   "cell_type": "code",
   "execution_count": 3,
   "metadata": {},
   "outputs": [
    {
     "data": {
      "text/plain": [
       "\u001b[36memptyArray\u001b[39m: \u001b[32mArray\u001b[39m[\u001b[32mInt\u001b[39m] = \u001b[33mArray\u001b[39m()"
      ]
     },
     "execution_count": 3,
     "metadata": {},
     "output_type": "execute_result"
    }
   ],
   "source": [
    "val emptyArray : Array[Int] = Array.empty[Int]"
   ]
  },
  {
   "cell_type": "markdown",
   "metadata": {},
   "source": [
    "1.2 Using Array's Apply Method"
   ]
  },
  {
   "cell_type": "code",
   "execution_count": 4,
   "metadata": {},
   "outputs": [
    {
     "data": {
      "text/plain": [
       "\u001b[36memptyArray\u001b[39m: \u001b[32mArray\u001b[39m[\u001b[32mDouble\u001b[39m] = \u001b[33mArray\u001b[39m()"
      ]
     },
     "execution_count": 4,
     "metadata": {},
     "output_type": "execute_result"
    }
   ],
   "source": [
    "val emptyArray : Array[Double] = Array[Double]()"
   ]
  },
  {
   "cell_type": "markdown",
   "metadata": {},
   "source": [
    "1.3 Using the tabulate Method"
   ]
  },
  {
   "cell_type": "code",
   "execution_count": 5,
   "metadata": {},
   "outputs": [
    {
     "data": {
      "text/plain": [
       "\u001b[36memptyLongArray\u001b[39m: \u001b[32mArray\u001b[39m[\u001b[32mLong\u001b[39m] = \u001b[33mArray\u001b[39m()"
      ]
     },
     "execution_count": 5,
     "metadata": {},
     "output_type": "execute_result"
    }
   ],
   "source": [
    "val emptyLongArray: Array[Long] = Array.tabulate[Long](0)(_ => 0L)"
   ]
  },
  {
   "cell_type": "markdown",
   "metadata": {},
   "source": [
    "1.4 Using empty Method"
   ]
  },
  {
   "cell_type": "code",
   "execution_count": 6,
   "metadata": {},
   "outputs": [
    {
     "data": {
      "text/plain": [
       "\u001b[36memptyArray\u001b[39m: \u001b[32mArray\u001b[39m[\u001b[32mNothing\u001b[39m] = \u001b[33mArray\u001b[39m()"
      ]
     },
     "execution_count": 6,
     "metadata": {},
     "output_type": "execute_result"
    }
   ],
   "source": [
    "val emptyArray: Array[Nothing] = Array.empty"
   ]
  },
  {
   "cell_type": "markdown",
   "metadata": {},
   "source": [
    "1.5 Using the `fill` Method with Zero Elements"
   ]
  },
  {
   "cell_type": "code",
   "execution_count": 11,
   "metadata": {},
   "outputs": [
    {
     "data": {
      "text/plain": [
       "\u001b[36memptyArray\u001b[39m: \u001b[32mArray\u001b[39m[\u001b[32mShort\u001b[39m] = \u001b[33mArray\u001b[39m()"
      ]
     },
     "execution_count": 11,
     "metadata": {},
     "output_type": "execute_result"
    }
   ],
   "source": [
    "val emptyArray: Array[Short] = Array.fill[Short](0)(0)"
   ]
  },
  {
   "cell_type": "markdown",
   "metadata": {},
   "source": [
    "1.6 Using `range` Method: \n",
    "\n",
    "When provided the same start and end values, it effectively created an empty range."
   ]
  },
  {
   "cell_type": "code",
   "execution_count": 12,
   "metadata": {},
   "outputs": [
    {
     "data": {
      "text/plain": [
       "\u001b[36memptyArray\u001b[39m: \u001b[32mArray\u001b[39m[\u001b[32mInt\u001b[39m] = \u001b[33mArray\u001b[39m()"
      ]
     },
     "execution_count": 12,
     "metadata": {},
     "output_type": "execute_result"
    }
   ],
   "source": [
    "val emptyArray: Array[Int] = Array.range(1, 1)"
   ]
  },
  {
   "cell_type": "markdown",
   "metadata": {},
   "source": [
    "#### 2. Initializing the Array with values"
   ]
  },
  {
   "cell_type": "code",
   "execution_count": 14,
   "metadata": {},
   "outputs": [
    {
     "name": "stdout",
     "output_type": "stream",
     "text": [
      "1\n"
     ]
    },
    {
     "data": {
      "text/plain": [
       "\u001b[36mintegerArray_1\u001b[39m: \u001b[32mArray\u001b[39m[\u001b[32mInt\u001b[39m] = \u001b[33mArray\u001b[39m(\u001b[32m1\u001b[39m, \u001b[32m2\u001b[39m, \u001b[32m3\u001b[39m, \u001b[32m4\u001b[39m, \u001b[32m5\u001b[39m)"
      ]
     },
     "execution_count": 14,
     "metadata": {},
     "output_type": "execute_result"
    }
   ],
   "source": [
    "val integerArray_1 : Array[Int] = Array(1, 2, 3, 4, 5)\n",
    "\n",
    "println(integerArray_1(0))"
   ]
  },
  {
   "cell_type": "markdown",
   "metadata": {},
   "source": [
    "3. Accessing and Modifying Elements"
   ]
  },
  {
   "cell_type": "code",
   "execution_count": 4,
   "metadata": {},
   "outputs": [
    {
     "name": "stdout",
     "output_type": "stream",
     "text": [
      "Python\n",
      "Java\n"
     ]
    },
    {
     "data": {
      "text/plain": [
       "\u001b[36mstringArray_1\u001b[39m: \u001b[32mArray\u001b[39m[\u001b[32mString\u001b[39m] = \u001b[33mArray\u001b[39m(\u001b[32m\"Java\"\u001b[39m, \u001b[32m\"Scala\"\u001b[39m, \u001b[32m\"Akka\"\u001b[39m)"
      ]
     },
     "execution_count": 4,
     "metadata": {},
     "output_type": "execute_result"
    }
   ],
   "source": [
    "val stringArray_1 = Array(\"Python\", \"Scala\", \"Akka\")\n",
    "\n",
    "println(stringArray_1(0))\n",
    "\n",
    "stringArray_1(0) = \"Java\"\n",
    "\n",
    "println(stringArray_1(0))"
   ]
  },
  {
   "cell_type": "markdown",
   "metadata": {},
   "source": [
    "4. Length of Array"
   ]
  },
  {
   "cell_type": "code",
   "execution_count": 3,
   "metadata": {},
   "outputs": [
    {
     "name": "stdout",
     "output_type": "stream",
     "text": [
      "3"
     ]
    },
    {
     "data": {
      "text/plain": [
       "\u001b[36mstringArray_1\u001b[39m: \u001b[32mArray\u001b[39m[\u001b[32mString\u001b[39m] = \u001b[33mArray\u001b[39m(\u001b[32m\"Python\"\u001b[39m, \u001b[32m\"Scala\"\u001b[39m, \u001b[32m\"Akka\"\u001b[39m)\n",
       "\u001b[36mlength\u001b[39m: \u001b[32mInt\u001b[39m = \u001b[32m3\u001b[39m"
      ]
     },
     "execution_count": 3,
     "metadata": {},
     "output_type": "execute_result"
    }
   ],
   "source": [
    "val stringArray_1 = Array(\"Python\", \"Scala\", \"Akka\")\n",
    "\n",
    "val length = stringArray_1.length\n",
    "\n",
    "print(length)"
   ]
  },
  {
   "cell_type": "markdown",
   "metadata": {},
   "source": [
    "5. Iterating over Array"
   ]
  },
  {
   "cell_type": "code",
   "execution_count": 2,
   "metadata": {},
   "outputs": [
    {
     "name": "stdout",
     "output_type": "stream",
     "text": [
      "Python\n",
      "Scala\n",
      "Akka\n",
      "Using foreach: \n",
      "Python\n",
      "Scala\n",
      "Akka\n"
     ]
    },
    {
     "data": {
      "text/plain": [
       "\u001b[36mstringArray_1\u001b[39m: \u001b[32mArray\u001b[39m[\u001b[32mString\u001b[39m] = \u001b[33mArray\u001b[39m(\u001b[32m\"Python\"\u001b[39m, \u001b[32m\"Scala\"\u001b[39m, \u001b[32m\"Akka\"\u001b[39m)"
      ]
     },
     "execution_count": 2,
     "metadata": {},
     "output_type": "execute_result"
    }
   ],
   "source": [
    "val stringArray_1 = Array(\"Python\", \"Scala\", \"Akka\")\n",
    "\n",
    "for{\n",
    "    i <- stringArray_1\n",
    "}println(i)\n",
    "\n",
    "println(\"Using foreach: \")\n",
    "stringArray_1.foreach(println)"
   ]
  },
  {
   "cell_type": "markdown",
   "metadata": {},
   "source": [
    "6. Operations on Array"
   ]
  },
  {
   "cell_type": "markdown",
   "metadata": {},
   "source": [
    "6.1 Concatenation"
   ]
  },
  {
   "cell_type": "code",
   "execution_count": 6,
   "metadata": {},
   "outputs": [
    {
     "name": "stdout",
     "output_type": "stream",
     "text": [
      "Python\n",
      "Scala\n",
      "Akka\n",
      "Java\n",
      "C++\n",
      "Data Structures and Algorithms\n"
     ]
    },
    {
     "data": {
      "text/plain": [
       "\u001b[36mstringArray_1\u001b[39m: \u001b[32mArray\u001b[39m[\u001b[32mString\u001b[39m] = \u001b[33mArray\u001b[39m(\u001b[32m\"Python\"\u001b[39m, \u001b[32m\"Scala\"\u001b[39m, \u001b[32m\"Akka\"\u001b[39m)\n",
       "\u001b[36mstringArray_2\u001b[39m: \u001b[32mArray\u001b[39m[\u001b[32mString\u001b[39m] = \u001b[33mArray\u001b[39m(\n",
       "  \u001b[32m\"Java\"\u001b[39m,\n",
       "  \u001b[32m\"C++\"\u001b[39m,\n",
       "  \u001b[32m\"Data Structures and Algorithms\"\u001b[39m\n",
       ")\n",
       "\u001b[36mcombined\u001b[39m: \u001b[32mArray\u001b[39m[\u001b[32mString\u001b[39m] = \u001b[33mArray\u001b[39m(\n",
       "  \u001b[32m\"Python\"\u001b[39m,\n",
       "  \u001b[32m\"Scala\"\u001b[39m,\n",
       "  \u001b[32m\"Akka\"\u001b[39m,\n",
       "  \u001b[32m\"Java\"\u001b[39m,\n",
       "  \u001b[32m\"C++\"\u001b[39m,\n",
       "  \u001b[32m\"Data Structures and Algorithms\"\u001b[39m\n",
       ")"
      ]
     },
     "execution_count": 6,
     "metadata": {},
     "output_type": "execute_result"
    }
   ],
   "source": [
    "val stringArray_1 = Array(\"Python\", \"Scala\", \"Akka\")\n",
    "\n",
    "val stringArray_2 = Array(\"Java\", \"C++\", \"Data Structures and Algorithms\")\n",
    "\n",
    "val combined = stringArray_1 ++ stringArray_2\n",
    "\n",
    "combined.foreach(println)"
   ]
  },
  {
   "cell_type": "markdown",
   "metadata": {},
   "source": [
    "6.2 Slicing"
   ]
  },
  {
   "cell_type": "code",
   "execution_count": 9,
   "metadata": {},
   "outputs": [
    {
     "name": "stdout",
     "output_type": "stream",
     "text": [
      "Python\n",
      "Scala\n"
     ]
    },
    {
     "data": {
      "text/plain": [
       "\u001b[36mstringArray_1\u001b[39m: \u001b[32mArray\u001b[39m[\u001b[32mString\u001b[39m] = \u001b[33mArray\u001b[39m(\u001b[32m\"Python\"\u001b[39m, \u001b[32m\"Scala\"\u001b[39m, \u001b[32m\"Akka\"\u001b[39m)\n",
       "\u001b[36mslicedArray\u001b[39m: \u001b[32mArray\u001b[39m[\u001b[32mString\u001b[39m] = \u001b[33mArray\u001b[39m(\u001b[32m\"Python\"\u001b[39m, \u001b[32m\"Scala\"\u001b[39m)"
      ]
     },
     "execution_count": 9,
     "metadata": {},
     "output_type": "execute_result"
    }
   ],
   "source": [
    "val stringArray_1 = Array(\"Python\", \"Scala\", \"Akka\")\n",
    "\n",
    "val slicedArray = stringArray_1.slice(0,2)\n",
    "\n",
    "slicedArray.foreach(println)"
   ]
  },
  {
   "cell_type": "markdown",
   "metadata": {},
   "source": [
    "Note: Array is mutable, for immutable squence use `Vector`, `List`, or `Seq`."
   ]
  }
 ],
 "metadata": {
  "kernelspec": {
   "display_name": "Scala",
   "language": "scala",
   "name": "scala"
  },
  "language_info": {
   "codemirror_mode": "text/x-scala",
   "file_extension": ".sc",
   "mimetype": "text/x-scala",
   "name": "scala",
   "nbconvert_exporter": "script",
   "version": "2.13.14"
  }
 },
 "nbformat": 4,
 "nbformat_minor": 2
}
