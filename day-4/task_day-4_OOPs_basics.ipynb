{
 "cells": [
  {
   "cell_type": "markdown",
   "metadata": {},
   "source": [
    "### Object Oriented Programming (Scala)"
   ]
  },
  {
   "cell_type": "markdown",
   "metadata": {},
   "source": [
    "A `class` is a blueprint for creating objects. It does not consume memory for object data until an `instance` (`object`) of the class is created."
   ]
  },
  {
   "cell_type": "markdown",
   "metadata": {},
   "source": [
    "An `object` is a specific instance of a `class` that contains actual values for the properties defined by the class and can utilize the methods of that class. Each object can have its own unique state, while all objects of the same class share the same structure and behavior defined by the class."
   ]
  },
  {
   "cell_type": "markdown",
   "metadata": {},
   "source": [
    "An `instance variable` is a variable defined within a class that holds data specific to an instance (object) of that class. "
   ]
  },
  {
   "cell_type": "markdown",
   "metadata": {},
   "source": [
    "A `constructor` is a special method in a class that is automatically called when an object of that class is created. The constructor initializes the object's instance variables and allocates memory for the object in the heap."
   ]
  },
  {
   "cell_type": "markdown",
   "metadata": {},
   "source": [
    "### Main features of OOPs"
   ]
  },
  {
   "cell_type": "markdown",
   "metadata": {},
   "source": [
    "1. Encapsulation"
   ]
  },
  {
   "cell_type": "markdown",
   "metadata": {},
   "source": [
    "2. Inheritance"
   ]
  },
  {
   "cell_type": "markdown",
   "metadata": {},
   "source": [
    "3. Polymorphism"
   ]
  },
  {
   "cell_type": "markdown",
   "metadata": {},
   "source": [
    "4. Data Abstraction"
   ]
  },
  {
   "cell_type": "markdown",
   "metadata": {},
   "source": [
    "Basic program of OOPs in Scala"
   ]
  },
  {
   "cell_type": "code",
   "execution_count": 8,
   "metadata": {},
   "outputs": [
    {
     "name": "stdout",
     "output_type": "stream",
     "text": [
      "Hi! I'm Krishna, and my roll no is 21\n",
      "Hi Gita! I'm Krishna, and my roll no is 21\n"
     ]
    },
    {
     "data": {
      "text/html": [
       "<div class=\"jp-RenderedText\">\n",
       "<pre><code>defined <span style=\"color: rgb(0, 187, 0)\"><span class=\"ansi-green-fg\">class</span></span> <span style=\"color: rgb(0, 187, 187)\"><span class=\"ansi-cyan-fg\">Student</span></span>\n",
       "<span style=\"color: rgb(0, 187, 187)\"><span class=\"ansi-cyan-fg\">stud</span></span>: <span style=\"color: rgb(0, 187, 0)\"><span class=\"ansi-green-fg\">Student</span></span> = ammonite.$sess.cmd8$Helper$Student@273e6088\n",
       "<span style=\"color: rgb(0, 187, 187)\"><span class=\"ansi-cyan-fg\">res8_2</span></span>: <span style=\"color: rgb(0, 187, 0)\"><span class=\"ansi-green-fg\">String</span></span> = <span style=\"color: rgb(0, 187, 0)\"><span class=\"ansi-green-fg\">&quot;Krishna&quot;</span></span></code></pre>\n",
       "</div>"
      ],
      "text/plain": [
       "defined \u001b[32mclass\u001b[39m \u001b[36mStudent\u001b[39m\n",
       "\u001b[36mstud\u001b[39m: \u001b[32mStudent\u001b[39m = ammonite.$sess.cmd8$Helper$Student@273e6088\n",
       "\u001b[36mres8_2\u001b[39m: \u001b[32mString\u001b[39m = \u001b[32m\"Krishna\"\u001b[39m"
      ]
     },
     "metadata": {},
     "output_type": "display_data"
    }
   ],
   "source": [
    "class Student(val name: String, roll_no: Int){ //in Scala this is default constructor. \n",
    "// Parameters of class are not fields, until val is used.\n",
    "// 'name' parameter can be accessed as field because it is declare with `val` keyword, but `roll_no` cannot be accessed by `.` notation outside the class, because this is not the parameter.\n",
    "    println(s\"Hi! I'm $name, and my roll no is $roll_no\")\n",
    "\n",
    "    def IntroduceToGita(name: String): Unit =  {\n",
    "        println(s\"Hi $name! I'm ${this.name}, and my roll no is $roll_no\")\n",
    "    }\n",
    "}\n",
    "var stud = new Student(\"Krishna\", 21)\n",
    "stud.name\n",
    "stud.IntroduceToGita(\"Gita\")"
   ]
  },
  {
   "cell_type": "markdown",
   "metadata": {},
   "source": [
    "#### Infix: for methods with one parameters\n",
    "#### Prefix: Only allowed fo: +, -, ~, !\n",
    "#### Postfix notation: for methods with no parameters"
   ]
  },
  {
   "cell_type": "code",
   "execution_count": 20,
   "metadata": {},
   "outputs": [
    {
     "data": {
      "text/plain": [
       "\u001b[32mimport \u001b[39m\u001b[36mscala.language.postfixOps\u001b[39m"
      ]
     },
     "execution_count": 20,
     "metadata": {},
     "output_type": "execute_result"
    }
   ],
   "source": [
    "import scala.language.postfixOps"
   ]
  },
  {
   "cell_type": "code",
   "execution_count": 21,
   "metadata": {},
   "outputs": [
    {
     "name": "stdout",
     "output_type": "stream",
     "text": [
      "true\n",
      "true\n",
      "Mary is hanging out with Jiya\n",
      "Mary is hanging out with Jiya\n",
      "Mary, what a code!\n",
      "Mary, what a code!\n",
      "true\n",
      "true\n",
      "Hi, my name is Mary and I like Inception\n",
      "Hi, my name is Mary and I like Inception\n",
      "Hi, my name is Mary (the Rockstart) and I like Inception\n",
      "1\n",
      "Mary is learning Scala\n",
      "Mary is learning Scala\n",
      "Mary watched Inception 10 times.\n"
     ]
    },
    {
     "data": {
      "text/plain": [
       "defined \u001b[32mclass\u001b[39m \u001b[36mPerson\u001b[39m\n",
       "\u001b[36mmary\u001b[39m: \u001b[32mPerson\u001b[39m = ammonite.$sess.cmd21$Helper$Person@7f214a46\n",
       "\u001b[36mjiya\u001b[39m: \u001b[32mPerson\u001b[39m = ammonite.$sess.cmd21$Helper$Person@5ba56fe5\n",
       "\u001b[36mx\u001b[39m: \u001b[32mInt\u001b[39m = \u001b[32m-1\u001b[39m\n",
       "\u001b[36my\u001b[39m: \u001b[32mInt\u001b[39m = \u001b[32m-1\u001b[39m"
      ]
     },
     "execution_count": 21,
     "metadata": {},
     "output_type": "execute_result"
    }
   ],
   "source": [
    "class Person(val name: String, favoriteMovie: String, val age: Int = 0){\n",
    "    def likes(movie: String): Boolean = movie == favoriteMovie\n",
    "    def +(person: Person): String = s\"${this.name} is hanging out with ${person.name}\"\n",
    "    def +(nickName: String): Person = new Person(s\"$name ($nickName)\", favoriteMovie)\n",
    "    def unary_! : String = s\"$name, what a code!\"\n",
    "    def unary_+ : Person = new Person(name, favoriteMovie, age + 1)\n",
    "    def isAlive: Boolean = true\n",
    "    def apply(): String = s\"Hi, my name is $name and I like $favoriteMovie\"\n",
    "    def apply(num: Int): String = s\"$name watched $favoriteMovie $num times.\"\n",
    "    def learns(thing: String) = s\"$name is learning $thing\"\n",
    "    def learnsScala = this learns \"Scala\"\n",
    "}\n",
    "\n",
    "val mary = new Person(\"Mary\", \"Inception\")\n",
    "println(mary.likes(\"Inception\"))\n",
    "println(mary likes \"Inception\")\n",
    "\n",
    "// Above two statements are equivalent, and applicable for any method which takes single parameter.\n",
    "// Infic notation = operator notation(syntatic sugar)\n",
    "\n",
    "// Operators in Scala is methods\n",
    "val jiya = new Person(\"Jiya\", \"K3J\")\n",
    "println(mary + jiya)\n",
    "println(mary.+(jiya))\n",
    "\n",
    "\n",
    "// prefix notation\n",
    "val x = -1 //equivalent with 1.unary_-\n",
    "val y = 1.unary_-\n",
    "// unary_ prefix only works with + - ~ !\n",
    "\n",
    "println(!mary)\n",
    "println(mary.unary_!)\n",
    "\n",
    "// postfix notation\n",
    "println(mary.isAlive)\n",
    "println(mary isAlive)\n",
    "\n",
    "// apply\n",
    "println(mary.apply())\n",
    "println(mary())\n",
    "\n",
    "println((mary + \"the Rockstart\")())\n",
    "println((+mary).age)\n",
    "\n",
    "println(mary learns \"Scala\")\n",
    "println(mary learnsScala)\n",
    "println(mary(10))"
   ]
  },
  {
   "cell_type": "markdown",
   "metadata": {},
   "source": [
    "### Encapsulation"
   ]
  },
  {
   "cell_type": "markdown",
   "metadata": {},
   "source": [
    "`Encapsulation` is the process of binding data members and methods of a program together to do a specific job, without revealing unnecessary details."
   ]
  },
  {
   "cell_type": "markdown",
   "metadata": {},
   "source": [
    "Creating `class`, `objects`, `instance variables`, `constructor` in Scala"
   ]
  },
  {
   "cell_type": "code",
   "execution_count": 1,
   "metadata": {},
   "outputs": [
    {
     "name": "stdout",
     "output_type": "stream",
     "text": [
      "Accessing Employee name: Emp1\n",
      "\n",
      " Employee name: Prynshi.\n",
      " Employee Designation: Software Engineer. \n",
      " Employee ID: 829."
     ]
    },
    {
     "data": {
      "text/plain": [
       "defined \u001b[32mclass\u001b[39m \u001b[36mEmployee\u001b[39m\n",
       "\u001b[36mobj\u001b[39m: \u001b[32mEmployee\u001b[39m = ammonite.$sess.cmd1$Helper$Employee@b59cbc9"
      ]
     },
     "execution_count": 1,
     "metadata": {},
     "output_type": "execute_result"
    }
   ],
   "source": [
    "// Class representing an employee with ID, designation, and name\n",
    "// Primary constructor accepting designation with default value\n",
    "class Employee(val designation: String = \"Software Engineer\"){\n",
    "\n",
    "    //Instance variables\n",
    "    // By default everything is public in Scala\n",
    "    val id: String = \"829\"\n",
    "    var name: String = \"Emp1\"\n",
    "    def aboutEmployee() = {\n",
    "        print(s\"\\n Employee name: $name.\\n Employee Designation: $designation. \\n Employee ID: $id.\")\n",
    "    }\n",
    "    //Public method to set name of the Employee\n",
    "    def setName(newName: String): Unit = {\n",
    "        if(newName.nonEmpty){\n",
    "            name = newName\n",
    "        }\n",
    "    }\n",
    "}\n",
    "\n",
    "// Create an instance of Employee and store it in `obj`\n",
    "val obj = new Employee()\n",
    "println(\"Accessing Employee name: \" + obj.name)\n",
    "obj.setName(\"Prynshi\")\n",
    "obj.aboutEmployee()"
   ]
  },
  {
   "cell_type": "markdown",
   "metadata": {},
   "source": [
    "### Abstraction"
   ]
  },
  {
   "cell_type": "markdown",
   "metadata": {},
   "source": [
    "`Abstraction` is the method of hiding unnecessary details from the necessary ones."
   ]
  },
  {
   "cell_type": "markdown",
   "metadata": {},
   "source": [
    "Access specifiers"
   ]
  },
  {
   "cell_type": "code",
   "execution_count": 15,
   "metadata": {},
   "outputs": [
    {
     "name": "stdout",
     "output_type": "stream",
     "text": [
      "1000.0 rupees debited from your SBI Account using Card.\n"
     ]
    },
    {
     "data": {
      "text/html": [
       "<div class=\"jp-RenderedText\">\n",
       "<pre><code>defined <span style=\"color: rgb(0, 187, 0)\"><span class=\"ansi-green-fg\">class</span></span> <span style=\"color: rgb(0, 187, 187)\"><span class=\"ansi-cyan-fg\">Payment</span></span>\n",
       "defined <span style=\"color: rgb(0, 187, 0)\"><span class=\"ansi-green-fg\">class</span></span> <span style=\"color: rgb(0, 187, 187)\"><span class=\"ansi-cyan-fg\">Card</span></span>\n",
       "<span style=\"color: rgb(0, 187, 187)\"><span class=\"ansi-cyan-fg\">payUsingCard</span></span>: <span style=\"color: rgb(0, 187, 0)\"><span class=\"ansi-green-fg\">Card</span></span> = ammonite.$sess.cmd15$Helper$Card@59e75204</code></pre>\n",
       "</div>"
      ],
      "text/plain": [
       "defined \u001b[32mclass\u001b[39m \u001b[36mPayment\u001b[39m\n",
       "defined \u001b[32mclass\u001b[39m \u001b[36mCard\u001b[39m\n",
       "\u001b[36mpayUsingCard\u001b[39m: \u001b[32mCard\u001b[39m = ammonite.$sess.cmd15$Helper$Card@59e75204"
      ]
     },
     "metadata": {},
     "output_type": "display_data"
    }
   ],
   "source": [
    "class Payment(var tAmount: Double, var bank: String = \"SBI\", var c_number: String){\n",
    "    //Card number is private, it cannot be accessed from outside\n",
    "    private var card_number = c_number\n",
    "    //totalAmount variable is protected, it can only be accessed by it's sub class\n",
    "    protected var totalAmount = tAmount \n",
    "\n",
    "    def makePayment(): Unit = {\n",
    "        println(s\"$totalAmount is debited from your $bank Account\")\n",
    "    }\n",
    "}\n",
    "\n",
    "class Card(tAmount: Double, bank: String, c_number: String) extends Payment(tAmount, bank, c_number) {\n",
    "  // Method Overriding\n",
    "  override def makePayment(): Unit = {\n",
    "    println(s\"$totalAmount rupees debited from your $bank Account using Card.\")\n",
    "  }\n",
    "}\n",
    "\n",
    "// Create an instance of Card and make a payment\n",
    "var payUsingCard = new Card(1000, \"SBI\", \"003248\")\n",
    "payUsingCard.makePayment()"
   ]
  },
  {
   "cell_type": "markdown",
   "metadata": {},
   "source": [
    "### Polymorphism"
   ]
  },
  {
   "cell_type": "markdown",
   "metadata": {},
   "source": [
    "`Polymorphism` refers to the process by which some code, data, method, or object behaves differently under different circumstances or contexts."
   ]
  },
  {
   "cell_type": "markdown",
   "metadata": {},
   "source": [
    "1. `Compile Time Polymorphism` is achived using `method overloading`, `constructor overloading`."
   ]
  },
  {
   "cell_type": "markdown",
   "metadata": {},
   "source": [
    "2. `Runtime Polymorphism` is achieved through `method overriding`."
   ]
  },
  {
   "cell_type": "markdown",
   "metadata": {},
   "source": [
    "1. Constructor overloading"
   ]
  },
  {
   "cell_type": "code",
   "execution_count": 3,
   "metadata": {},
   "outputs": [
    {
     "data": {
      "text/plain": [
       "\u001b[36mDefaultWheels\u001b[39m: \u001b[32mInt\u001b[39m = \u001b[32m4\u001b[39m\n",
       "\u001b[36mDefaultElectric\u001b[39m: \u001b[32mBoolean\u001b[39m = \u001b[32mtrue\u001b[39m\n",
       "defined \u001b[32mclass\u001b[39m \u001b[36mVechile\u001b[39m\n",
       "\u001b[36mp1\u001b[39m: \u001b[32mVechile\u001b[39m = This vechile has 4 wheels and isElectric: true\n",
       "\u001b[36mp2\u001b[39m: \u001b[32mVechile\u001b[39m = This vechile has 4 wheels and isElectric: true\n",
       "\u001b[36mp3\u001b[39m: \u001b[32mVechile\u001b[39m = This vechile has 4 wheels and isElectric: true\n",
       "\u001b[36mp4\u001b[39m: \u001b[32mVechile\u001b[39m = This vechile has 4 wheels and isElectric: true"
      ]
     },
     "execution_count": 3,
     "metadata": {},
     "output_type": "execute_result"
    }
   ],
   "source": [
    "val DefaultWheels = 4\n",
    "val DefaultElectric = true\n",
    "\n",
    "// the primary constructor\n",
    "class Vechile (var wheels: Int, var vechileType: Boolean) {\n",
    "\n",
    "    // one-arg auxiliary constructor\n",
    "    def this(wheels: Int) = {\n",
    "        this(wheels, DefaultElectric)\n",
    "    }\n",
    "\n",
    "    // one-arg auxiliary constructor\n",
    "    def this(vechileType: Boolean) = {\n",
    "        this(DefaultWheels, vechileType)\n",
    "    }\n",
    "\n",
    "    // zero-arg auxiliary constructor\n",
    "    def this() = {\n",
    "        this(DefaultWheels, DefaultElectric)\n",
    "    }\n",
    "\n",
    "    override def toString = s\"This vechile has $wheels wheels and isElectric: $vechileType\"\n",
    "\n",
    "}\n",
    "\n",
    "val p1 = new Vechile(DefaultWheels, DefaultElectric)\n",
    "val p2 = new Vechile(DefaultWheels)\n",
    "val p3 = new Vechile(DefaultElectric)\n",
    "val p4 = new Vechile"
   ]
  },
  {
   "cell_type": "markdown",
   "metadata": {},
   "source": [
    "2. Method overloading"
   ]
  },
  {
   "cell_type": "code",
   "execution_count": 26,
   "metadata": {},
   "outputs": [
    {
     "name": "stdout",
     "output_type": "stream",
     "text": [
      "Processing credit card payment of 100.0 from card HDFC.\n",
      "Processing bank transfer of 250.0 from account 3355584 with routing number 184-395-283.\n"
     ]
    },
    {
     "data": {
      "text/plain": [
       "defined \u001b[32mclass\u001b[39m \u001b[36mPaymentProcessor\u001b[39m\n",
       "\u001b[36mprocessor\u001b[39m: \u001b[32mPaymentProcessor\u001b[39m = ammonite.$sess.cmd26$Helper$PaymentProcessor@667f87bc"
      ]
     },
     "execution_count": 26,
     "metadata": {},
     "output_type": "execute_result"
    }
   ],
   "source": [
    "class PaymentProcessor {\n",
    "  // Method overloading with variable number of parameters\n",
    "  // Overloaded method for credit card payment\n",
    "  def processPayment(amount: Double, ccBank: String = \"HDFC\"): Unit = { //ccBank has default parameter in the processPayment method\n",
    "    println(s\"Processing credit card payment of $amount from card $ccBank.\")\n",
    "  }\n",
    "\n",
    "  // Overloaded method for bank transfer payment\n",
    "  def processPayment(amount: Double, bankAccount: String, routingNumber: String): Unit = {\n",
    "    println(s\"Processing bank transfer of $amount from account $bankAccount with routing number $routingNumber.\")\n",
    "  }\n",
    "}\n",
    "\n",
    "// Usage\n",
    "val processor = new PaymentProcessor()\n",
    "processor.processPayment(100.0)  // Credit card payment\n",
    "processor.processPayment(250.0, \"3355584\", \"184-395-283\")  // Bank transfer payment"
   ]
  },
  {
   "cell_type": "markdown",
   "metadata": {},
   "source": [
    "4. Operator overloading"
   ]
  },
  {
   "cell_type": "code",
   "execution_count": 19,
   "metadata": {},
   "outputs": [
    {
     "name": "stdout",
     "output_type": "stream",
     "text": [
      "Result: (4, 6)\n"
     ]
    },
    {
     "data": {
      "text/plain": [
       "defined \u001b[32mclass\u001b[39m \u001b[36mPoint\u001b[39m\n",
       "\u001b[36mpoint1\u001b[39m: \u001b[32mPoint\u001b[39m = \u001b[33mPoint\u001b[39m(x = \u001b[32m1\u001b[39m, y = \u001b[32m2\u001b[39m)\n",
       "\u001b[36mpoint2\u001b[39m: \u001b[32mPoint\u001b[39m = \u001b[33mPoint\u001b[39m(x = \u001b[32m3\u001b[39m, y = \u001b[32m4\u001b[39m)\n",
       "\u001b[36mresult\u001b[39m: \u001b[32mPoint\u001b[39m = \u001b[33mPoint\u001b[39m(x = \u001b[32m4\u001b[39m, y = \u001b[32m6\u001b[39m)"
      ]
     },
     "execution_count": 19,
     "metadata": {},
     "output_type": "execute_result"
    }
   ],
   "source": [
    "// Define the Point class\n",
    "case class Point(x: Int, y: Int) {\n",
    "  // Overload the + operator\n",
    "  def +(that: Point): Point = Point(this.x + that.x, this.y + that.y)\n",
    "}\n",
    "\n",
    "// Use the overloaded operator\n",
    "val point1 = Point(1, 2)\n",
    "val point2 = Point(3, 4)\n",
    "\n",
    "val result = point1 + point2 // Using the overloaded + operator\n",
    "println(s\"Result: (${result.x}, ${result.y})\") // Output: Result: (4, 6)\n"
   ]
  },
  {
   "cell_type": "markdown",
   "metadata": {},
   "source": [
    "3. Method overriding"
   ]
  },
  {
   "cell_type": "code",
   "execution_count": 5,
   "metadata": {},
   "outputs": [
    {
     "name": "stdout",
     "output_type": "stream",
     "text": [
      "Goku is eating, and it's type is Domestic\n"
     ]
    },
    {
     "data": {
      "text/plain": [
       "defined \u001b[32mclass\u001b[39m \u001b[36mAnimal\u001b[39m\n",
       "defined \u001b[32mclass\u001b[39m \u001b[36mDog\u001b[39m\n",
       "\u001b[36mdog\u001b[39m: \u001b[32mDog\u001b[39m = ammonite.$sess.cmd5$Helper$Dog@5139d76c"
      ]
     },
     "execution_count": 5,
     "metadata": {},
     "output_type": "execute_result"
    }
   ],
   "source": [
    "class Animal{\n",
    "    def eat = println(s\"eating\")\n",
    "}\n",
    "\n",
    "class Dog(name: String, ty: String) extends Animal{\n",
    "    override def eat = println(s\"$name is eating, and it's type is $ty\")\n",
    "}\n",
    "\n",
    "val dog = new Dog(\"Goku\", \"Domestic\")\n",
    "dog.eat"
   ]
  },
  {
   "cell_type": "markdown",
   "metadata": {},
   "source": [
    "### Inheritance"
   ]
  },
  {
   "cell_type": "markdown",
   "metadata": {},
   "source": [
    "`Inheritance` is the mechanism by which an object or class (referred to as a child or `sub-class`) is created using the definition of another object or class (referred to as a parent or `super class`). "
   ]
  },
  {
   "cell_type": "markdown",
   "metadata": {},
   "source": [
    "Note: Along with the Method Overriding, the below example consider the concept of `super class` - `child class` and `abstract` class"
   ]
  },
  {
   "cell_type": "markdown",
   "metadata": {},
   "source": [
    "Preventing overrides:"
   ]
  },
  {
   "cell_type": "markdown",
   "metadata": {},
   "source": [
    "1. Use `final` on members.\n",
    "2. Use `final` on the entire class\n",
    "3. `seal` the class: extend classes in this file, prevent in other files."
   ]
  },
  {
   "cell_type": "code",
   "execution_count": 14,
   "metadata": {},
   "outputs": [
    {
     "name": "stdout",
     "output_type": "stream",
     "text": [
      "Processing credit card payment of 100.0 from card HDFC.\n",
      "Processing bank transfer of 250.0 from account 6830789 with routing number 343-543-234.\n"
     ]
    },
    {
     "data": {
      "text/plain": [
       "defined \u001b[32mclass\u001b[39m \u001b[36mPayment\u001b[39m\n",
       "defined \u001b[32mclass\u001b[39m \u001b[36mCreditCardPayment\u001b[39m\n",
       "defined \u001b[32mclass\u001b[39m \u001b[36mBankTransferPayment\u001b[39m\n",
       "\u001b[36mcreditCardPayment\u001b[39m: \u001b[32mCreditCardPayment\u001b[39m = ammonite.$sess.cmd14$Helper$CreditCardPayment@7411dd2c\n",
       "\u001b[36mbankTransferPayment\u001b[39m: \u001b[32mBankTransferPayment\u001b[39m = ammonite.$sess.cmd14$Helper$BankTransferPayment@3e0ae632"
      ]
     },
     "execution_count": 14,
     "metadata": {},
     "output_type": "execute_result"
    }
   ],
   "source": [
    "abstract class Payment {\n",
    "  def process(amount: Double): Unit\n",
    "}\n",
    "\n",
    "class CreditCardPayment(ccBank: String) extends Payment {\n",
    "  // Override keyword is not required for abstract classes\n",
    "  def process(amount: Double): Unit = {\n",
    "    println(s\"Processing credit card payment of $amount from card $ccBank.\")\n",
    "  }\n",
    "}\n",
    "\n",
    "class BankTransferPayment(bankAccount: String, routingNumber: String) extends Payment {\n",
    "  def process(amount: Double): Unit = {\n",
    "    println(s\"Processing bank transfer of $amount from account $bankAccount with routing number $routingNumber.\")\n",
    "  }\n",
    "}\n",
    "\n",
    "// Usage\n",
    "val creditCardPayment = new CreditCardPayment(\"HDFC\")\n",
    "creditCardPayment.process(100.0)  // Credit card payment\n",
    "\n",
    "val bankTransferPayment = new BankTransferPayment(\"6830789\", \"343-543-234\")\n",
    "bankTransferPayment.process(250.0)  // Bank transfer payment"
   ]
  },
  {
   "cell_type": "markdown",
   "metadata": {},
   "source": [
    "### Case Class"
   ]
  },
  {
   "cell_type": "markdown",
   "metadata": {},
   "source": [
    "Case classes are quick lightweight data structures with little boilerplate. Companion objects are already implemented."
   ]
  },
  {
   "cell_type": "code",
   "execution_count": 13,
   "metadata": {},
   "outputs": [
    {
     "name": "stdout",
     "output_type": "stream",
     "text": [
      "Jim\n",
      "Person(Jim,34)\n",
      "true\n",
      "Person(Jim,95)\n"
     ]
    },
    {
     "data": {
      "text/plain": [
       "defined \u001b[32mclass\u001b[39m \u001b[36mPerson\u001b[39m\n",
       "\u001b[36mjim\u001b[39m: \u001b[32mPerson\u001b[39m = \u001b[33mPerson\u001b[39m(name = \u001b[32m\"Jim\"\u001b[39m, age = \u001b[32m34\u001b[39m)\n",
       "\u001b[36mjim2\u001b[39m: \u001b[32mPerson\u001b[39m = \u001b[33mPerson\u001b[39m(name = \u001b[32m\"Jim\"\u001b[39m, age = \u001b[32m34\u001b[39m)\n",
       "\u001b[36mjim3\u001b[39m: \u001b[32mPerson\u001b[39m = \u001b[33mPerson\u001b[39m(name = \u001b[32m\"Jim\"\u001b[39m, age = \u001b[32m95\u001b[39m)\n",
       "\u001b[36mthePerson\u001b[39m: \u001b[32mPerson\u001b[39m.type = Person\n",
       "\u001b[36manotherPerson\u001b[39m: \u001b[32mPerson\u001b[39m = \u001b[33mPerson\u001b[39m(name = \u001b[32m\"Jiya\"\u001b[39m, age = \u001b[32m28\u001b[39m)"
      ]
     },
     "execution_count": 13,
     "metadata": {},
     "output_type": "execute_result"
    }
   ],
   "source": [
    "case class Person(name: String, age: Int){\n",
    "    \n",
    "}\n",
    "// 1. class parameters are fields\n",
    "val jim = new Person(\"Jim\", 34)\n",
    "println(jim.name)\n",
    "\n",
    "// 2. sensible toString\n",
    "println(jim)\n",
    "\n",
    "// 3. equals and hashCode implemented OOTB\n",
    "val jim2 = new Person(\"Jim\", 34)\n",
    "println(jim == jim2)\n",
    "\n",
    "// 4. Case Classes have handy methods\n",
    "val jim3 = jim.copy(age = 95)\n",
    "println(jim3)\n",
    "\n",
    "// 5. Case classes have companion objects\n",
    "val thePerson = Person\n",
    "val anotherPerson = Person(\"Jiya\", 28)\n",
    "\n",
    "// 6. Case classes are serializable\n",
    "\n",
    "// 7. Case classes have extractor patterns = Case classes can be used in PATTERN MATCHING"
   ]
  }
 ],
 "metadata": {
  "kernelspec": {
   "display_name": "Scala",
   "language": "scala",
   "name": "scala"
  },
  "language_info": {
   "codemirror_mode": "text/x-scala",
   "file_extension": ".sc",
   "mimetype": "text/x-scala",
   "name": "scala",
   "nbconvert_exporter": "script",
   "version": "2.13.14"
  }
 },
 "nbformat": 4,
 "nbformat_minor": 2
}
