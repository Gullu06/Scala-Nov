{
 "cells": [
  {
   "cell_type": "markdown",
   "metadata": {},
   "source": [
    "### Object Oriented Programming (Scala)"
   ]
  },
  {
   "cell_type": "markdown",
   "metadata": {},
   "source": [
    "A `class` is a blueprint for creating objects. It does not consume memory for object data until an `instance` (`object`) of the class is created."
   ]
  },
  {
   "cell_type": "markdown",
   "metadata": {},
   "source": [
    "An `object` is a specific instance of a `class` that contains actual values for the properties defined by the class and can utilize the methods of that class. Each object can have its own unique state, while all objects of the same class share the same structure and behavior defined by the class."
   ]
  },
  {
   "cell_type": "markdown",
   "metadata": {},
   "source": [
    "An `instance variable` is a variable defined within a class that holds data specific to an instance (object) of that class. "
   ]
  },
  {
   "cell_type": "markdown",
   "metadata": {},
   "source": [
    "A `constructor` is a special method in a class that is automatically called when an object of that class is created. The constructor initializes the object's instance variables and allocates memory for the object in the heap."
   ]
  },
  {
   "cell_type": "markdown",
   "metadata": {},
   "source": [
    "### Main features of OOPs"
   ]
  },
  {
   "cell_type": "markdown",
   "metadata": {},
   "source": [
    "1. Encapsulation"
   ]
  },
  {
   "cell_type": "markdown",
   "metadata": {},
   "source": [
    "2. Inheritance"
   ]
  },
  {
   "cell_type": "markdown",
   "metadata": {},
   "source": [
    "3. Polymorphism"
   ]
  },
  {
   "cell_type": "markdown",
   "metadata": {},
   "source": [
    "4. Data Abstraction"
   ]
  },
  {
   "cell_type": "markdown",
   "metadata": {},
   "source": [
    "### Encapsulation"
   ]
  },
  {
   "cell_type": "markdown",
   "metadata": {},
   "source": [
    "`Encapsulation` is the process of binding data members and methods of a program together to do a specific job, without revealing unnecessary details."
   ]
  },
  {
   "cell_type": "markdown",
   "metadata": {},
   "source": [
    "Creating `class`, `objects`, `instance variables`, `constructor` in Scala"
   ]
  },
  {
   "cell_type": "code",
   "execution_count": 2,
   "metadata": {},
   "outputs": [
    {
     "name": "stdout",
     "output_type": "stream",
     "text": [
      "Accessing Employee name: Emp1\n",
      "\n",
      " Employee name: Prynshi.\n",
      " Employee Designation: Software Engineer. \n",
      " Employee ID: 829."
     ]
    },
    {
     "data": {
      "text/plain": [
       "defined \u001b[32mclass\u001b[39m \u001b[36mEmployee\u001b[39m\n",
       "\u001b[36mobj\u001b[39m: \u001b[32mEmployee\u001b[39m = ammonite.$sess.cmd2$Helper$Employee@5d60d54c"
      ]
     },
     "execution_count": 2,
     "metadata": {},
     "output_type": "execute_result"
    }
   ],
   "source": [
    "// Class representing an employee with ID, designation, and name\n",
    "// Primary constructor accepting designation with default value\n",
    "class Employee(val designation: String = \"Software Engineer\"){\n",
    "\n",
    "    //Instance variables\n",
    "    // By default everything is public in Scala\n",
    "    val id: String = \"829\"\n",
    "    var name: String = \"Emp1\"\n",
    "    def aboutEmployee() = {\n",
    "        print(s\"\\n Employee name: $name.\\n Employee Designation: $designation. \\n Employee ID: $id.\")\n",
    "    }\n",
    "    //Public method to set name of the Employee\n",
    "    def setName(newName: String): Unit = {\n",
    "        if(newName.nonEmpty){\n",
    "            name = newName\n",
    "        }\n",
    "    }\n",
    "}\n",
    "\n",
    "// Create an instance of Employee and store it in `obj`\n",
    "val obj = new Employee()\n",
    "println(\"Accessing Employee name: \" + obj.name)\n",
    "obj.setName(\"Prynshi\")\n",
    "obj.aboutEmployee()"
   ]
  },
  {
   "cell_type": "markdown",
   "metadata": {},
   "source": [
    "### Abstraction"
   ]
  },
  {
   "cell_type": "markdown",
   "metadata": {},
   "source": [
    "`Abstraction` is the method of hiding unnecessary details from the necessary ones."
   ]
  },
  {
   "cell_type": "markdown",
   "metadata": {},
   "source": [
    "Access specifiers"
   ]
  },
  {
   "cell_type": "code",
   "execution_count": 15,
   "metadata": {},
   "outputs": [
    {
     "name": "stdout",
     "output_type": "stream",
     "text": [
      "1000.0 rupees debited from your SBI Account using Card.\n"
     ]
    },
    {
     "data": {
      "text/html": [
       "<div class=\"jp-RenderedText\">\n",
       "<pre><code>defined <span style=\"color: rgb(0, 187, 0)\"><span class=\"ansi-green-fg\">class</span></span> <span style=\"color: rgb(0, 187, 187)\"><span class=\"ansi-cyan-fg\">Payment</span></span>\n",
       "defined <span style=\"color: rgb(0, 187, 0)\"><span class=\"ansi-green-fg\">class</span></span> <span style=\"color: rgb(0, 187, 187)\"><span class=\"ansi-cyan-fg\">Card</span></span>\n",
       "<span style=\"color: rgb(0, 187, 187)\"><span class=\"ansi-cyan-fg\">payUsingCard</span></span>: <span style=\"color: rgb(0, 187, 0)\"><span class=\"ansi-green-fg\">Card</span></span> = ammonite.$sess.cmd15$Helper$Card@59e75204</code></pre>\n",
       "</div>"
      ],
      "text/plain": [
       "defined \u001b[32mclass\u001b[39m \u001b[36mPayment\u001b[39m\n",
       "defined \u001b[32mclass\u001b[39m \u001b[36mCard\u001b[39m\n",
       "\u001b[36mpayUsingCard\u001b[39m: \u001b[32mCard\u001b[39m = ammonite.$sess.cmd15$Helper$Card@59e75204"
      ]
     },
     "metadata": {},
     "output_type": "display_data"
    }
   ],
   "source": [
    "class Payment(var tAmount: Double, var bank: String = \"SBI\", var c_number: String){\n",
    "    //Card number is private, it cannot be accessed from outside\n",
    "    private var card_number = c_number\n",
    "    //totalAmount variable is protected, it can only be accessed by it's sub class\n",
    "    protected var totalAmount = tAmount \n",
    "\n",
    "    def makePayment(): Unit = {\n",
    "        println(s\"$totalAmount is debited from your $bank Account\")\n",
    "    }\n",
    "}\n",
    "\n",
    "class Card(tAmount: Double, bank: String, c_number: String) extends Payment(tAmount, bank, c_number) {\n",
    "  // Method Overriding\n",
    "  override def makePayment(): Unit = {\n",
    "    println(s\"$totalAmount rupees debited from your $bank Account using Card.\")\n",
    "  }\n",
    "}\n",
    "\n",
    "// Create an instance of Card and make a payment\n",
    "var payUsingCard = new Card(1000, \"SBI\", \"003248\")\n",
    "payUsingCard.makePayment()"
   ]
  },
  {
   "cell_type": "markdown",
   "metadata": {},
   "source": [
    "### Polymorphism"
   ]
  },
  {
   "cell_type": "markdown",
   "metadata": {},
   "source": [
    "`Polymorphism` refers to the process by which some code, data, method, or object behaves differently under different circumstances or contexts."
   ]
  },
  {
   "cell_type": "markdown",
   "metadata": {},
   "source": [
    "1. `Compile Time Polymorphism` is achived using `method overloading`, `constructor overloading`."
   ]
  },
  {
   "cell_type": "markdown",
   "metadata": {},
   "source": [
    "2. `Runtime Polymorphism` is achieved through `method overriding`."
   ]
  },
  {
   "cell_type": "markdown",
   "metadata": {},
   "source": [
    "1. Method overloading"
   ]
  },
  {
   "cell_type": "code",
   "execution_count": 26,
   "metadata": {},
   "outputs": [
    {
     "name": "stdout",
     "output_type": "stream",
     "text": [
      "Processing credit card payment of 100.0 from card HDFC.\n",
      "Processing bank transfer of 250.0 from account 3355584 with routing number 184-395-283.\n"
     ]
    },
    {
     "data": {
      "text/plain": [
       "defined \u001b[32mclass\u001b[39m \u001b[36mPaymentProcessor\u001b[39m\n",
       "\u001b[36mprocessor\u001b[39m: \u001b[32mPaymentProcessor\u001b[39m = ammonite.$sess.cmd26$Helper$PaymentProcessor@667f87bc"
      ]
     },
     "execution_count": 26,
     "metadata": {},
     "output_type": "execute_result"
    }
   ],
   "source": [
    "class PaymentProcessor {\n",
    "  // Method overloading with variable number of parameters\n",
    "  // Overloaded method for credit card payment\n",
    "  def processPayment(amount: Double, ccBank: String = \"HDFC\"): Unit = { //ccBank has default parameter in the processPayment method\n",
    "    println(s\"Processing credit card payment of $amount from card $ccBank.\")\n",
    "  }\n",
    "\n",
    "  // Overloaded method for bank transfer payment\n",
    "  def processPayment(amount: Double, bankAccount: String, routingNumber: String): Unit = {\n",
    "    println(s\"Processing bank transfer of $amount from account $bankAccount with routing number $routingNumber.\")\n",
    "  }\n",
    "}\n",
    "\n",
    "// Usage\n",
    "val processor = new PaymentProcessor()\n",
    "processor.processPayment(100.0)  // Credit card payment\n",
    "processor.processPayment(250.0, \"3355584\", \"184-395-283\")  // Bank transfer payment"
   ]
  },
  {
   "cell_type": "markdown",
   "metadata": {},
   "source": [
    "2. Method overriding"
   ]
  },
  {
   "cell_type": "markdown",
   "metadata": {},
   "source": [
    "### Inheritance"
   ]
  },
  {
   "cell_type": "markdown",
   "metadata": {},
   "source": [
    "`Inheritance` is the mechanism by which an object or class (referred to as a child or `sub-class`) is created using the definition of another object or class (referred to as a parent or `super class`). "
   ]
  },
  {
   "cell_type": "markdown",
   "metadata": {},
   "source": [
    "Note: Along with the Method Overriding, the below example consider the concept of `super class` - `child class` and `abstract` class"
   ]
  },
  {
   "cell_type": "code",
   "execution_count": 18,
   "metadata": {},
   "outputs": [
    {
     "name": "stdout",
     "output_type": "stream",
     "text": [
      "Processing credit card payment of 100.0 from card HDFC.\n",
      "Processing bank transfer of 250.0 from account 6830789 with routing number 343-543-234.\n"
     ]
    },
    {
     "data": {
      "text/plain": [
       "defined \u001b[32mclass\u001b[39m \u001b[36mPayment\u001b[39m\n",
       "defined \u001b[32mclass\u001b[39m \u001b[36mCreditCardPayment\u001b[39m\n",
       "defined \u001b[32mclass\u001b[39m \u001b[36mBankTransferPayment\u001b[39m\n",
       "\u001b[36mcreditCardPayment\u001b[39m: \u001b[32mCreditCardPayment\u001b[39m = ammonite.$sess.cmd18$Helper$CreditCardPayment@225e1106\n",
       "\u001b[36mbankTransferPayment\u001b[39m: \u001b[32mBankTransferPayment\u001b[39m = ammonite.$sess.cmd18$Helper$BankTransferPayment@6c6197f0"
      ]
     },
     "execution_count": 18,
     "metadata": {},
     "output_type": "execute_result"
    }
   ],
   "source": [
    "abstract class Payment {\n",
    "  def process(amount: Double): Unit\n",
    "}\n",
    "\n",
    "class CreditCardPayment(ccBank: String) extends Payment {\n",
    "  override def process(amount: Double): Unit = {\n",
    "    println(s\"Processing credit card payment of $amount from card $ccBank.\")\n",
    "  }\n",
    "}\n",
    "\n",
    "class BankTransferPayment(bankAccount: String, routingNumber: String) extends Payment {\n",
    "  override def process(amount: Double): Unit = {\n",
    "    println(s\"Processing bank transfer of $amount from account $bankAccount with routing number $routingNumber.\")\n",
    "  }\n",
    "}\n",
    "\n",
    "// Usage\n",
    "val creditCardPayment = new CreditCardPayment(\"HDFC\")\n",
    "creditCardPayment.process(100.0)  // Credit card payment\n",
    "\n",
    "val bankTransferPayment = new BankTransferPayment(\"6830789\", \"343-543-234\")\n",
    "bankTransferPayment.process(250.0)  // Bank transfer payment"
   ]
  },
  {
   "cell_type": "markdown",
   "metadata": {},
   "source": [
    "### Case Class"
   ]
  },
  {
   "cell_type": "code",
   "execution_count": 7,
   "metadata": {},
   "outputs": [
    {
     "name": "stdout",
     "output_type": "stream",
     "text": [
      "Accessing Employee name: Emp1\n",
      "\n",
      " Employee name: Prynshi.\n",
      " Employee Designation: Software Engineer. \n",
      " Employee ID: 829."
     ]
    },
    {
     "data": {
      "text/plain": [
       "defined \u001b[32mclass\u001b[39m \u001b[36mEmployee\u001b[39m\n",
       "\u001b[36mobj\u001b[39m: \u001b[32mEmployee\u001b[39m = \u001b[33mEmployee\u001b[39m(designation = \u001b[32m\"Software Engineer\"\u001b[39m)"
      ]
     },
     "execution_count": 7,
     "metadata": {},
     "output_type": "execute_result"
    }
   ],
   "source": [
    "// Class representing an employee with ID, designation, and name\n",
    "// Primary constructor accepting designation with default value\n",
    "case class Employee(val designation: String = \"Software Engineer\"){\n",
    "\n",
    "    //Instance variables\n",
    "    // By default everything is public in Scala\n",
    "    val id: String = \"829\"\n",
    "    var name: String = \"Emp1\"\n",
    "    def aboutEmployee() = {\n",
    "        print(s\"\\n Employee name: $name.\\n Employee Designation: $designation. \\n Employee ID: $id.\")\n",
    "    }\n",
    "    //Public method to set name of the Employee\n",
    "    def setName(newName: String): Unit = {\n",
    "        if(newName.nonEmpty){\n",
    "            name = newName\n",
    "        }\n",
    "    }\n",
    "}\n",
    "\n",
    "// Create an instance of Employee and store it in `obj`\n",
    "val obj = new Employee()\n",
    "println(\"Accessing Employee name: \" + obj.name)\n",
    "obj.setName(\"Prynshi\")\n",
    "obj.aboutEmployee()"
   ]
  }
 ],
 "metadata": {
  "kernelspec": {
   "display_name": "Scala",
   "language": "scala",
   "name": "scala"
  },
  "language_info": {
   "codemirror_mode": "text/x-scala",
   "file_extension": ".sc",
   "mimetype": "text/x-scala",
   "name": "scala",
   "nbconvert_exporter": "script",
   "version": "2.13.14"
  }
 },
 "nbformat": 4,
 "nbformat_minor": 2
}
