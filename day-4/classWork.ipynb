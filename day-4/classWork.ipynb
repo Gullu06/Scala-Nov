{
 "cells": [
  {
   "cell_type": "code",
   "execution_count": 1,
   "metadata": {},
   "outputs": [
    {
     "name": "stdout",
     "output_type": "stream",
     "text": [
      "400\n"
     ]
    },
    {
     "data": {
      "text/plain": [
       "defined \u001b[32mfunction\u001b[39m \u001b[36mgiveMeLogic\u001b[39m"
      ]
     },
     "execution_count": 1,
     "metadata": {},
     "output_type": "execute_result"
    }
   ],
   "source": [
    "def giveMeLogic(): (Int)=>Int = (x) => x*x\n",
    "\n",
    "println(giveMeLogic()(20))"
   ]
  },
  {
   "cell_type": "code",
   "execution_count": 2,
   "metadata": {},
   "outputs": [
    {
     "name": "stdout",
     "output_type": "stream",
     "text": [
      "25"
     ]
    },
    {
     "data": {
      "text/plain": [
       "defined \u001b[32mfunction\u001b[39m \u001b[36mgiveMeDeepLogic\u001b[39m"
      ]
     },
     "execution_count": 2,
     "metadata": {},
     "output_type": "execute_result"
    }
   ],
   "source": [
    "def giveMeDeepLogic(): ()=>(Int)=>(Int) = giveMeLogic\n",
    "print(giveMeDeepLogic()()(5))"
   ]
  },
  {
   "cell_type": "code",
   "execution_count": 3,
   "metadata": {},
   "outputs": [
    {
     "name": "stdout",
     "output_type": "stream",
     "text": [
      "105\n"
     ]
    },
    {
     "data": {
      "text/plain": [
       "defined \u001b[32mfunction\u001b[39m \u001b[36mprocess\u001b[39m\n",
       "defined \u001b[32mfunction\u001b[39m \u001b[36mprocessLayer1\u001b[39m"
      ]
     },
     "execution_count": 3,
     "metadata": {},
     "output_type": "execute_result"
    }
   ],
   "source": [
    "def process(x: Int): Int = x+100\n",
    "\n",
    "def processLayer1(x:Int): Int = process(x)\n",
    "\n",
    "println(processLayer1(5))"
   ]
  },
  {
   "cell_type": "code",
   "execution_count": 4,
   "metadata": {},
   "outputs": [
    {
     "name": "stdout",
     "output_type": "stream",
     "text": [
      "400\n"
     ]
    },
    {
     "data": {
      "text/plain": [
       "defined \u001b[32mfunction\u001b[39m \u001b[36msquare\u001b[39m\n",
       "defined \u001b[32mfunction\u001b[39m \u001b[36mgiveMeLogic\u001b[39m"
      ]
     },
     "execution_count": 4,
     "metadata": {},
     "output_type": "execute_result"
    }
   ],
   "source": [
    "def square = (x:Int) => x*x\n",
    "def giveMeLogic = (x:Int) => square(x)\n",
    "\n",
    "println(giveMeLogic(20))"
   ]
  },
  {
   "cell_type": "code",
   "execution_count": 5,
   "metadata": {},
   "outputs": [
    {
     "name": "stdout",
     "output_type": "stream",
     "text": [
      "50.0\n"
     ]
    },
    {
     "data": {
      "text/plain": [
       "defined \u001b[32mfunction\u001b[39m \u001b[36mgetOffers\u001b[39m"
      ]
     },
     "execution_count": 5,
     "metadata": {},
     "output_type": "execute_result"
    }
   ],
   "source": [
    "def getOffers(card:String): (Int) => Double = {\n",
    "    card match {\n",
    "        case \"SBI\" => (actual_price)=>actual_price-50\n",
    "        case \"AXIS\" => (actual_price)=>actual_price-100\n",
    "        case \"HDFC\" => (actual_price)=>actual_price-25\n",
    "        case _ => (actual_price) => actual_price\n",
    "    }\n",
    "}\n",
    "\n",
    "println(getOffers(\"SBI\")(100))"
   ]
  },
  {
   "cell_type": "markdown",
   "metadata": {},
   "source": [
    "OuterScope data can be accessed in inner scope. But inner scope data cannot be accessed in outer scope."
   ]
  },
  {
   "cell_type": "code",
   "execution_count": 4,
   "metadata": {},
   "outputs": [
    {
     "name": "stdout",
     "output_type": "stream",
     "text": [
      "Inside innerscope data is 30 and outerscope data is 35\n",
      "Inside innerscope data is 40 and outerscope data is 75\n",
      "Inside innerscope data is 50 and outerscope data is 125\n"
     ]
    },
    {
     "data": {
      "text/plain": [
       "defined \u001b[32mfunction\u001b[39m \u001b[36mwrapper\u001b[39m"
      ]
     },
     "execution_count": 4,
     "metadata": {},
     "output_type": "execute_result"
    }
   ],
   "source": [
    "def wrapper(outer: Int): Unit = {\n",
    "    var outerscope = outer\n",
    "    def inner(data: Int): String = {\n",
    "        outerscope = outerscope + data\n",
    "        println(s\"Inside innerscope data is $data and outerscope data is $outerscope\")\n",
    "        return \"InnerFinished\"\n",
    "    }\n",
    "    inner(30)\n",
    "    inner(40)\n",
    "    inner(50)\n",
    "}\n",
    "wrapper(5)"
   ]
  },
  {
   "cell_type": "code",
   "execution_count": 7,
   "metadata": {},
   "outputs": [
    {
     "name": "stdout",
     "output_type": "stream",
     "text": [
      "Inside innerscope data is 10 and outerscope data is 15\n",
      "InnerFinished\n",
      "Inside innerscope data is 20 and outerscope data is 35\n",
      "InnerFinished\n",
      "Inside innerscope data is 40 and outerscope data is 75\n",
      "InnerFinished\n"
     ]
    },
    {
     "data": {
      "text/html": [
       "<div class=\"jp-RenderedText\">\n",
       "<pre><code>defined <span style=\"color: rgb(0, 187, 0)\"><span class=\"ansi-green-fg\">function</span></span> <span style=\"color: rgb(0, 187, 187)\"><span class=\"ansi-cyan-fg\">wrapper</span></span>\n",
       "<span style=\"color: rgb(0, 187, 187)\"><span class=\"ansi-cyan-fg\">nested</span></span>: <span style=\"color: rgb(0, 187, 0)\"><span class=\"ansi-green-fg\">Int</span></span> =&gt; <span style=\"color: rgb(0, 187, 0)\"><span class=\"ansi-green-fg\">String</span></span> = ammonite.$sess.cmd7$Helper$$Lambda/0x0000000501a1ddb8@6e0d2de6</code></pre>\n",
       "</div>"
      ],
      "text/plain": [
       "defined \u001b[32mfunction\u001b[39m \u001b[36mwrapper\u001b[39m\n",
       "\u001b[36mnested\u001b[39m: \u001b[32mInt\u001b[39m => \u001b[32mString\u001b[39m = ammonite.$sess.cmd7$Helper$$Lambda/0x0000000501a1ddb8@6e0d2de6"
      ]
     },
     "metadata": {},
     "output_type": "display_data"
    }
   ],
   "source": [
    "def wrapper(outer: Int): (Int) => String = {\n",
    "    var outerscope = outer\n",
    "    def inner(data: Int): String = {\n",
    "        outerscope = outerscope + data\n",
    "        println(s\"Inside innerscope data is $data and outerscope data is $outerscope\")\n",
    "        return \"InnerFinished\"\n",
    "    }\n",
    "    inner\n",
    "}\n",
    "\n",
    "var nested = wrapper(5)(10)\n",
    "println(nested(10))\n",
    "println(nested(20))\n",
    "println(nested(40))"
   ]
  },
  {
   "cell_type": "code",
   "execution_count": 9,
   "metadata": {},
   "outputs": [
    {
     "name": "stdout",
     "output_type": "stream",
     "text": [
      "Inside innerscope data is 10 and outerscope data is 510\n",
      "0\n"
     ]
    },
    {
     "data": {
      "text/html": [
       "<div class=\"jp-RenderedText\">\n",
       "<pre><code>defined <span style=\"color: rgb(0, 187, 0)\"><span class=\"ansi-green-fg\">function</span></span> <span style=\"color: rgb(0, 187, 187)\"><span class=\"ansi-cyan-fg\">wrapper</span></span>\n",
       "<span style=\"color: rgb(0, 187, 187)\"><span class=\"ansi-cyan-fg\">nested</span></span>: <span style=\"color: rgb(0, 187, 0)\"><span class=\"ansi-green-fg\">String</span></span> =&gt; <span style=\"color: rgb(0, 187, 0)\"><span class=\"ansi-green-fg\">Int</span></span> = ammonite.$sess.cmd9$Helper$$Lambda/0x0000000501a548c8@442185f</code></pre>\n",
       "</div>"
      ],
      "text/plain": [
       "defined \u001b[32mfunction\u001b[39m \u001b[36mwrapper\u001b[39m\n",
       "\u001b[36mnested\u001b[39m: \u001b[32mString\u001b[39m => \u001b[32mInt\u001b[39m = ammonite.$sess.cmd9$Helper$$Lambda/0x0000000501a548c8@442185f"
      ]
     },
     "metadata": {},
     "output_type": "display_data"
    }
   ],
   "source": [
    "def inner = (data: Int): String => \n",
    "def wrapper = (outer: Int): (Int) => String => \n",
    "\n",
    "var nested = wrapper(5)\n",
    "println(nested(10))\n",
    "// println(nested(20))\n",
    "// println(nested(40))"
   ]
  },
  {
   "cell_type": "code",
   "execution_count": 2,
   "metadata": {},
   "outputs": [
    {
     "name": "stdout",
     "output_type": "stream",
     "text": [
      "50\n",
      "accessing x inside fun1: Prynshi\n",
      "accessing x inside fun1: Hello\n"
     ]
    },
    {
     "data": {
      "text/plain": [
       "defined \u001b[32mfunction\u001b[39m \u001b[36mfun2\u001b[39m\n",
       "defined \u001b[32mfunction\u001b[39m \u001b[36mfun1\u001b[39m"
      ]
     },
     "execution_count": 2,
     "metadata": {},
     "output_type": "execute_result"
    }
   ],
   "source": [
    "def fun2(p: String): Unit = {\n",
    "    val n:String = \"Prynshi\"\n",
    "    fun1(50, (info) => {\n",
    "        println(f\"accessing x inside fun1: $n\")\n",
    "        println(f\"accessing x inside fun1: $p\")\n",
    "    })\n",
    "}\n",
    "\n",
    "def fun1(num: Int, f: String=>Unit): Unit = {\n",
    "    println(num)\n",
    "    f(\"fun1 is running\")\n",
    "}\n",
    "\n",
    "fun2(\"Hello\")"
   ]
  },
  {
   "cell_type": "markdown",
   "metadata": {},
   "source": [
    "Curring Operation"
   ]
  },
  {
   "cell_type": "code",
   "execution_count": 6,
   "metadata": {},
   "outputs": [
    {
     "name": "stdout",
     "output_type": "stream",
     "text": [
      "201\n"
     ]
    },
    {
     "data": {
      "text/plain": [
       "\u001b[36mmultiply\u001b[39m: \u001b[32mInt\u001b[39m => \u001b[32mInt\u001b[39m = ammonite.$sess.cmd6$Helper$$Lambda/0x000000c80194a0a8@5cc5d62b\n",
       "\u001b[36maddOne\u001b[39m: \u001b[32mInt\u001b[39m => \u001b[32mInt\u001b[39m = ammonite.$sess.cmd6$Helper$$Lambda/0x000000c80194a480@2385d84d\n",
       "\u001b[36mres\u001b[39m: \u001b[32mInt\u001b[39m => \u001b[32mInt\u001b[39m = scala.Function1$$Lambda/0x000000c801912008@bccc3a6"
      ]
     },
     "execution_count": 6,
     "metadata": {},
     "output_type": "execute_result"
    }
   ],
   "source": [
    "val multiply = (num: Int) => num * 2\n",
    "val addOne = (num: Int) => num + 1\n",
    "\n",
    "val res = multiply andThen addOne\n",
    "println(res(100))"
   ]
  },
  {
   "cell_type": "code",
   "execution_count": 5,
   "metadata": {},
   "outputs": [
    {
     "name": "stdout",
     "output_type": "stream",
     "text": [
      "Prynshi's total price is 60\n",
      "Order is placed\n"
     ]
    },
    {
     "data": {
      "text/plain": [
       "\u001b[36mcalculateTotalPrice\u001b[39m: (\u001b[32mString\u001b[39m, \u001b[32mArray\u001b[39m[\u001b[32mInt\u001b[39m]) => \u001b[32mInt\u001b[39m = ammonite.$sess.cmd5$Helper$$Lambda/0x000000c801946a00@31bdfc62\n",
       "\u001b[36mplaceOrder\u001b[39m: (\u001b[32mString\u001b[39m, \u001b[32mInt\u001b[39m) => \u001b[32mBoolean\u001b[39m = ammonite.$sess.cmd5$Helper$$Lambda/0x000000c801946f98@5f6aa1c5\n",
       "\u001b[36morderStatus\u001b[39m: \u001b[32mBoolean\u001b[39m => \u001b[32mUnit\u001b[39m = ammonite.$sess.cmd5$Helper$$Lambda/0x000000c801947530@45bf2e7\n",
       "\u001b[36mgetTotalPrice\u001b[39m: \u001b[32mArray\u001b[39m[\u001b[32mInt\u001b[39m] => \u001b[32mInt\u001b[39m = ammonite.$sess.cmd5$Helper$$Lambda/0x000000c8019478e8@5fb6bc87\n",
       "\u001b[36mplaceMyOrder\u001b[39m: \u001b[32mInt\u001b[39m => \u001b[32mBoolean\u001b[39m = ammonite.$sess.cmd5$Helper$$Lambda/0x000000c801948000@4a37353\n",
       "\u001b[36mitemPriceList\u001b[39m: \u001b[32mArray\u001b[39m[\u001b[32mInt\u001b[39m] = \u001b[33mArray\u001b[39m(\u001b[32m10\u001b[39m, \u001b[32m20\u001b[39m, \u001b[32m5\u001b[39m, \u001b[32m25\u001b[39m)\n",
       "\u001b[36mgetTotalPriceAndPlaceMyOrder\u001b[39m: \u001b[32mArray\u001b[39m[\u001b[32mInt\u001b[39m] => \u001b[32mBoolean\u001b[39m = scala.Function1$$Lambda/0x000000c801912008@5b30e9e\n",
       "\u001b[36mres5_7\u001b[39m: \u001b[32mBoolean\u001b[39m = \u001b[32mtrue\u001b[39m"
      ]
     },
     "execution_count": 5,
     "metadata": {},
     "output_type": "execute_result"
    }
   ],
   "source": [
    "val calculateTotalPrice = (ftype: String, prices: Array[Int]) => {\n",
    "    var total = 0;\n",
    "    for(i<-prices){\n",
    "        total += i\n",
    "    }\n",
    "    println(s\"$ftype's total price is $total\")\n",
    "    total\n",
    "}\n",
    "val placeOrder = (ftype: String, placed: Int) => {\n",
    "    println(s\"$ftype's order is placed\")\n",
    "    if(placed > 1)\n",
    "    true\n",
    "    else\n",
    "    false\n",
    "}\n",
    "\n",
    "val orderStatus = (orderStatus: Boolean) => {\n",
    "    if(orderStatus)\n",
    "    println(\"Your is shipped\")\n",
    "    else\n",
    "    println(\"Not shipped\")\n",
    "}\n",
    "\n",
    "val getTotalPrice = calculateTotalPrice(\"Prynshi\", _: Array[Int])\n",
    "val placeMyOrder = placeOrder(\"Customer1\", _: Int)\n",
    "\n",
    "val itemPriceList = Array(10, 20, 5, 25)\n",
    "val getTotalPriceAndPlaceMyOrder = getTotalPrice andThen placeMyOrder\n",
    "// val getOrderStatus = orderStatus(getTotalPriceAndPlaceMyOrder)\n",
    "\n",
    "getTotalPriceAndPlaceMyOrder(itemPriceList)\n",
    "// shipping"
   ]
  },
  {
   "cell_type": "code",
   "execution_count": 7,
   "metadata": {},
   "outputs": [
    {
     "name": "stdout",
     "output_type": "stream",
     "text": [
      "Baked cake ready for Straberry Cream topping.\n",
      "Added the Topping Straberry Cream\n",
      "Baked pizza ready for Olives topping.\n",
      "Added the Topping Olives\n"
     ]
    },
    {
     "data": {
      "text/plain": [
       "\u001b[36maddTopping\u001b[39m: \u001b[32mString\u001b[39m => \u001b[32mUnit\u001b[39m = ammonite.$sess.cmd7$Helper$$Lambda/0x000000c80194b930@1210660c\n",
       "\u001b[36mbake\u001b[39m: (\u001b[32mString\u001b[39m, \u001b[32mString\u001b[39m) => \u001b[32mString\u001b[39m = ammonite.$sess.cmd7$Helper$$Lambda/0x000000c80194bce8@733e2e47\n",
       "\u001b[36mcakeBake\u001b[39m: \u001b[32mString\u001b[39m => \u001b[32mString\u001b[39m = ammonite.$sess.cmd7$Helper$$Lambda/0x000000c80194c280@62bec2c7\n",
       "\u001b[36mpizzaBake\u001b[39m: \u001b[32mString\u001b[39m => \u001b[32mString\u001b[39m = ammonite.$sess.cmd7$Helper$$Lambda/0x000000c80194c640@687d0cc6\n",
       "\u001b[36mcakePrepration\u001b[39m: \u001b[32mString\u001b[39m => \u001b[32mUnit\u001b[39m = scala.Function1$$Lambda/0x000000c801912008@70978f57\n",
       "\u001b[36mpizzaPrepration\u001b[39m: \u001b[32mString\u001b[39m => \u001b[32mUnit\u001b[39m = scala.Function1$$Lambda/0x000000c801912008@91083c"
      ]
     },
     "execution_count": 7,
     "metadata": {},
     "output_type": "execute_result"
    }
   ],
   "source": [
    "val addTopping = (result: String) => {\n",
    "    println(s\"Added the Topping $result\")\n",
    "}\n",
    "val bake = (ftype: String, topping: String) => {\n",
    "    println(s\"Baked $ftype ready for $topping topping.\")\n",
    "    topping\n",
    "}\n",
    "\n",
    "val cakeBake = bake(\"cake\",_: String)\n",
    "val pizzaBake = bake(\"pizza\",_:String)\n",
    "\n",
    "val cakePrepration = cakeBake andThen addTopping\n",
    "val pizzaPrepration = pizzaBake andThen addTopping\n",
    "\n",
    "cakePrepration(\"Straberry Cream\")\n",
    "pizzaPrepration(\"Olives\")"
   ]
  }
 ],
 "metadata": {
  "kernelspec": {
   "display_name": "Scala",
   "language": "scala",
   "name": "scala"
  },
  "language_info": {
   "codemirror_mode": "text/x-scala",
   "file_extension": ".sc",
   "mimetype": "text/x-scala",
   "name": "scala",
   "nbconvert_exporter": "script",
   "version": "2.13.14"
  }
 },
 "nbformat": 4,
 "nbformat_minor": 2
}
