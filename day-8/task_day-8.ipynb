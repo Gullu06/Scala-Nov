{
 "cells": [
  {
   "cell_type": "markdown",
   "metadata": {},
   "source": [
    "Multiple inheritance using `Traits`."
   ]
  },
  {
   "cell_type": "markdown",
   "metadata": {},
   "source": [
    "Question1:\n",
    "    Implement Muliple inhertance with traits\n",
    "   \n",
    "1. Trait GetStarted --> has implemented method prepare(also check if it is abstract)\n",
    "2. Trait Cook extends GetStarted --> has implemented method prepare (super.prepare call must be there)\n",
    "3. Trait Seasoning ---> has implemented method applySeasoning\n",
    "4. Class Food extends Cook with Seasoning --> Has implemented method prepareFood\n",
    "          that calls prepare and Seasoning\n",
    "\n",
    "          the order of execution must be\n",
    "\n",
    "          GetStarted prepare\n",
    "          Cook prepare\n",
    "          Seasoning applySeasoning\n",
    "\n",
    "Check whether there is need of abstract override and comment why in the submission."
   ]
  },
  {
   "cell_type": "code",
   "execution_count": 31,
   "metadata": {},
   "outputs": [
    {
     "name": "stdout",
     "output_type": "stream",
     "text": [
      "GetStarted prepare\n",
      "Cook prepare\n",
      "Seasoning applySeasoning\n"
     ]
    },
    {
     "data": {
      "text/plain": [
       "defined \u001b[32mtrait\u001b[39m \u001b[36mGetStarted\u001b[39m\n",
       "defined \u001b[32mtrait\u001b[39m \u001b[36mCook\u001b[39m\n",
       "defined \u001b[32mtrait\u001b[39m \u001b[36mSeasoning\u001b[39m\n",
       "defined \u001b[32mclass\u001b[39m \u001b[36mFood\u001b[39m\n",
       "\u001b[36mobj\u001b[39m: \u001b[32mFood\u001b[39m = ammonite.$sess.cmd31$Helper$Food@77e454ac"
      ]
     },
     "execution_count": 31,
     "metadata": {},
     "output_type": "execute_result"
    }
   ],
   "source": [
    "trait GetStarted{\n",
    "    def prepare(): Unit = {\n",
    "        println(\"GetStarted prepare\")\n",
    "    }\n",
    "}\n",
    "\n",
    "trait Cook extends GetStarted{\n",
    "    override def prepare(): Unit = {\n",
    "        super.prepare()\n",
    "        println(\"Cook prepare\")\n",
    "    }\n",
    "}\n",
    "\n",
    "trait Seasoning{\n",
    "    def applySeasoning(): Unit = {\n",
    "        println(\"Seasoning applySeasoning\")\n",
    "    }\n",
    "}\n",
    "\n",
    "class Food extends Cook with Seasoning{\n",
    "    def prepareFood(): Unit = {\n",
    "        prepare()\n",
    "        applySeasoning()\n",
    "    }\n",
    "}\n",
    "\n",
    "val obj = new Food()\n",
    "obj.prepareFood()"
   ]
  },
  {
   "cell_type": "markdown",
   "metadata": {},
   "source": [
    "1. trait Task --->  doTask (implemented method)\n",
    "2. trait Cook  extends Task --> doTask (override)\n",
    "3. trait Garnish extends Cook --> doTask (overide)\n",
    "4. trait Pack extends Garnish --> doTask (overide)\n",
    "5. class Activity extends Task---> doActivity ---> Call for doTask\n",
    "\n",
    "\n",
    "6. create object in main method \n",
    "\n",
    "val:Task = new Activity with Cook with Garnish with Pack\n",
    "\n",
    "observe the behavior\n",
    "\n",
    "observe the behavior by changing the order of inheritance"
   ]
  },
  {
   "cell_type": "code",
   "execution_count": 60,
   "metadata": {},
   "outputs": [
    {
     "name": "stdout",
     "output_type": "stream",
     "text": [
      "Do this Task\n",
      "Overriding doTask again in Garnish!\n"
     ]
    },
    {
     "data": {
      "text/plain": [
       "defined \u001b[32mtrait\u001b[39m \u001b[36mTask\u001b[39m\n",
       "defined \u001b[32mtrait\u001b[39m \u001b[36mCook\u001b[39m\n",
       "defined \u001b[32mtrait\u001b[39m \u001b[36mGarnish\u001b[39m\n",
       "defined \u001b[32mtrait\u001b[39m \u001b[36mPack\u001b[39m\n",
       "defined \u001b[32mclass\u001b[39m \u001b[36mActivity\u001b[39m\n",
       "\u001b[36mtask\u001b[39m: \u001b[32mActivity\u001b[39m with \u001b[32mCook\u001b[39m with \u001b[32mGarnish\u001b[39m = ammonite.$sess.cmd60$Helper$$anon$1@bc16852"
      ]
     },
     "execution_count": 60,
     "metadata": {},
     "output_type": "execute_result"
    }
   ],
   "source": [
    "trait Task{\n",
    "    def doTask(): Unit = {\n",
    "        println(\"Do this Task\")\n",
    "    }\n",
    "}\n",
    "\n",
    "trait Cook extends Task{\n",
    "    override def doTask(): Unit = {\n",
    "        // super.doTask()\n",
    "        println(\"Overriding doTask in Cook!\")\n",
    "    }\n",
    "}\n",
    "\n",
    "trait Garnish extends Cook{\n",
    "    override def doTask(): Unit = {\n",
    "        // super.doTask()\n",
    "        println(\"Overriding doTask again in Garnish!\")\n",
    "    }\n",
    "}\n",
    "\n",
    "trait Pack extends Garnish{\n",
    "    override def doTask(): Unit = {\n",
    "        // super.doTask()\n",
    "        println(\"Overriding doTask again in Pack!\")\n",
    "    }\n",
    "}\n",
    "\n",
    "class Activity extends Task{\n",
    "    def doActivity(): Unit = {\n",
    "        super.doTask()\n",
    "    }\n",
    "}\n",
    "\n",
    "\n",
    "val task = new Activity() with Cook with Garnish\n",
    "task.doActivity()\n",
    "task.doTask()"
   ]
  }
 ],
 "metadata": {
  "kernelspec": {
   "display_name": "Scala",
   "language": "scala",
   "name": "scala"
  },
  "language_info": {
   "codemirror_mode": "text/x-scala",
   "file_extension": ".sc",
   "mimetype": "text/x-scala",
   "name": "scala",
   "nbconvert_exporter": "script",
   "version": "2.13.14"
  }
 },
 "nbformat": 4,
 "nbformat_minor": 2
}
